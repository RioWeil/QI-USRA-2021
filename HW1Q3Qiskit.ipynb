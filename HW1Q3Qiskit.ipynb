{
 "cells": [
  {
   "cell_type": "code",
   "execution_count": 22,
   "id": "995deb3d-0073-475a-87cb-f990b51e52ef",
   "metadata": {},
   "outputs": [],
   "source": [
    "# HW1Q3Qiskit.ipynb\n",
    "# Date: 07/30/2021\n",
    "# Author: Rio Weil\n",
    "# Functionality: Simulates a 9-qubit shor code to numerically estimate the concatenation threshold under depolarizing Pauli noise applied individually to each qubit."
   ]
  },
  {
   "cell_type": "code",
   "execution_count": 21,
   "id": "54d72d57-13d8-4fd0-afa2-3d6195cf2cf2",
   "metadata": {},
   "outputs": [],
   "source": [
    "import numpy as np\n",
    "import matplotlib.pyplot as plt\n",
    "from IPython import display\n",
    "\n",
    "import qiskit\n",
    "from qiskit import QuantumCircuit, QuantumRegister, Aer, transpile, assemble\n",
    "from qiskit.providers.aer.noise import NoiseModel\n",
    "from qiskit.providers.aer.noise.errors.standard_errors import pauli_error, depolarizing_error, thermal_relaxation_error\n",
    "from qiskit.providers.aer import QasmSimulator\n",
    "from qiskit.visualization import plot_histogram"
   ]
  },
  {
   "cell_type": "markdown",
   "id": "06bdde12-0a4f-461f-9c5f-6f68bf629815",
   "metadata": {},
   "source": [
    "Before we get into the 9-qubit Shor code, we first introduce how we can implement a repetition code in Qiskit such that we can perform error correction without performing syndrome measurements and correction procedures (we will show how the correction procedure can in a sense be \"built in\" to the circuit itself, and performed unitarily). First, let's take a look at what the bit flip repetition code looks like."
   ]
  },
  {
   "cell_type": "code",
   "execution_count": 2,
   "id": "b7ef1b52-f857-4599-9c28-ba3f5270011c",
   "metadata": {},
   "outputs": [
    {
     "data": {
      "text/html": [
       "<pre style=\"word-wrap: normal;white-space: pre;background: #fff0;line-height: 1.1;font-family: &quot;Courier New&quot;,Courier,monospace\">                ░ ┌───┐ ░           ┌───┐\n",
       "q_0: ──■────■───░─┤ X ├─░───■────■──┤ X ├\n",
       "     ┌─┴─┐  │   ░ ├───┤ ░ ┌─┴─┐  │  └─┬─┘\n",
       "q_1: ┤ X ├──┼───░─┤ X ├─░─┤ X ├──┼────■──\n",
       "     └───┘┌─┴─┐ ░ ├───┤ ░ └───┘┌─┴─┐  │  \n",
       "q_2: ─────┤ X ├─░─┤ X ├─░──────┤ X ├──■──\n",
       "          └───┘ ░ └───┘ ░      └───┘     \n",
       "c: 3/════════════════════════════════════\n",
       "                                         </pre>"
      ],
      "text/plain": [
       "                ░ ┌───┐ ░           ┌───┐\n",
       "q_0: ──■────■───░─┤ X ├─░───■────■──┤ X ├\n",
       "     ┌─┴─┐  │   ░ ├───┤ ░ ┌─┴─┐  │  └─┬─┘\n",
       "q_1: ┤ X ├──┼───░─┤ X ├─░─┤ X ├──┼────■──\n",
       "     └───┘┌─┴─┐ ░ ├───┤ ░ └───┘┌─┴─┐  │  \n",
       "q_2: ─────┤ X ├─░─┤ X ├─░──────┤ X ├──■──\n",
       "          └───┘ ░ └───┘ ░      └───┘     \n",
       "c: 3/════════════════════════════════════\n",
       "                                         "
      ]
     },
     "execution_count": 2,
     "metadata": {},
     "output_type": "execute_result"
    }
   ],
   "source": [
    "simulator = QasmSimulator()\n",
    "circuit = QuantumCircuit(3, 3)\n",
    "circuit.cx(0, 1)\n",
    "circuit.cx(0, 2)\n",
    "circuit.barrier()\n",
    "circuit.x(0)\n",
    "circuit.x(1)\n",
    "circuit.x(2)\n",
    "circuit.barrier()\n",
    "circuit.cx(0, 1)\n",
    "circuit.cx(0, 2)\n",
    "circuit.ccx(2, 1, 0)\n",
    "circuit.draw()"
   ]
  },
  {
   "cell_type": "markdown",
   "id": "60047efa-fd27-4434-b9da-36f3d6c93fe2",
   "metadata": {},
   "source": [
    "Note that We inject the state $\\lvert \\psi \\rangle$ at $q_0$ and $\\lvert 0 \\rangle$ at $q_1, q_2$ and read it out the state at the end at $q_0$. The probabilistic errors are represented in the above circuit with the X gates in the center. We now discuss how this circuit allows us to correct for bit flip errors (in particular, the Toffli gate at the end will perform the error correction for us)."
   ]
  },
  {
   "cell_type": "markdown",
   "id": "84eeef08-a5e4-4d8d-acfd-304ea6a1eb0b",
   "metadata": {},
   "source": [
    "We first discuss state preparation. In general, we can make the identification $\\lvert \\psi \\rangle = \\alpha\\lvert 0 \\rangle + \\beta \\lvert 1 \\rangle = \\begin{bmatrix} \\alpha \\\\ \\beta \\end{bmatrix}$ and consider what happens to the other qubits. However, we will find it sufficient to discuss the cases $\\lvert \\psi \\rangle = \\lvert 0 \\rangle$ and $\\lvert \\psi \\rangle = \\lvert 1 \\rangle$ (as if we can see error correction in these two cases, we could conclude error correction in the other two cases via taking linear combinations."
   ]
  },
  {
   "cell_type": "markdown",
   "id": "add377c9-039d-40c0-a547-b32487fe5816",
   "metadata": {},
   "source": [
    "Let us start with $\\lvert \\psi \\rangle = \\lvert 0 \\rangle$. Then, the qubits $q_1$ and $q_2$ are unaffected under the initial two CNOT gates as the control qubit is in state $0$. Hence, the state of the three qubits before the error is just $\\lvert 0 0 0 \\rangle = \\lvert 0 \\rangle_0 \\otimes \\lvert 0 \\rangle_1 \\otimes \\lvert 0 \\rangle_2$.\n",
    "\n",
    "Then, we have 8 cases to consider with the probabilistic bit flips on the code qubits:\n",
    "\n",
    "1. No bit flip on any qubit\n",
    "2. Bit flip on $q_0$ only\n",
    "3. Bit flip on $q_1$ only\n",
    "4. Bit flip on $q_2$ only\n",
    "5. Bit flips on $q_0$, $q_1$\n",
    "6. Bit flips on $q_0$, $q_2$\n",
    "7. Bit flips on $q_1$, $q_2$\n",
    "8. Bit flips on all three\n",
    "\n",
    "If the bit flip is to work as intended, we should see error correction/the correct state readout from qubit $q_0$ at the end for cases 1-4 and an error for cases 5-8."
   ]
  },
  {
   "cell_type": "markdown",
   "id": "bd66dbd8-6335-44c8-8498-de58f2631637",
   "metadata": {},
   "source": [
    "1. In this case, we have that no bit flip errors occur on the qubits. Hence, the qubit states will all still be individually $\\lvert 0 \\rangle$ at the end, and the CNOT/Toffili gates at the end will have no affect on the states (control qubits are all zero). Hence, the final state of the $q_0$ qubit will be $\\lvert 0 \\rangle$ (same as the initial state!) exactly as we require.\n",
    "\n",
    "2. In this case, we have a bit flip error on $q_0$. Hence, the state of the first qubit after the error section is $\\lvert 1 \\rangle$. Then, the two CNOTs after the errors will bit flip $q_1$ and $q_2$ respectively. After the two CNOT gates, the state of the qubits is $\\lvert 1 1 1 \\rangle = \\lvert 1 \\rangle_0 \\otimes \\lvert 1 \\rangle_1 \\otimes \\lvert 1 \\rangle_2$. Then, the Toffili gate will invert the first qubit, as the two control qubits $q_1$ and $q_2$ are both in the $\\lvert 1 \\rangle$ state. This means the final state of $q_0$ will be $\\lvert 0 \\rangle$, exactly as we require.\n",
    "\n",
    "3. In this case, we have a bit flip error on $q_1$, so the state of the first qubit after the error is $\\lvert 1 \\rangle$. Then, the CNOTs do not result in any flips as the control qubit $q_0$ is still $\\lvert 0 \\rangle$. The Toffili gate does not invert $q_0$ as $q_2$ is still in the 0 state, though $q_1$ is in the one state (it requires that both control qubits be in the 1 state). Hence the final state of $q_0$ will be $\\lvert 0 \\rangle$.\n",
    "\n",
    "4. The analysis for this case is identical to case 3; we again find that the final state of $q_0$ is $\\lvert 0 \\rangle$.\n",
    "\n",
    "5. In this case, after the error we have that the state is $\\lvert 110 \\rangle$. Then, the first CNOT will have the effect of flipping $q_1$ to make the state $\\lvert 100 \\rangle$ and the second CNOT will have the effect of flipping $q_2$ to make the state $\\lvert 101 \\rangle$. The Toffili gate does not invert $q_0$ as one of the control qubits ($q_1$) is not in the 1 state. Hence the final state of $q_0$ is $\\lvert 1 \\rangle$, so a logical error occurs.\n",
    "\n",
    "6. In this case, after the error we have that the state is $\\lvert 101 \\rangle$. Then, the first CNOT gate will have the effect of flipping $q_1$ to make the state $\\lvert 111 \\rangle$, and the second CNOT will have the effect of flipping $q_2$ to make the state $\\lvert 110 \\rangle$. The Toffili gate does not invert $q_0$ as one of the control qubits ($q_2$) is not in the 1 state. Hence the final state of $q_0$ is $\\lvert 1 \\rangle$, so a logical error occurs.\n",
    "\n",
    "7. In this case, after the error we have that the state is $\\lvert 011 \\rangle$. Neither CNOT gates will have an effect as the control qubit $q_0$ is in the 0 state. The Toffili gate inverts $q_0$ as both of the control qubits are in the 1 state, making the final state of $q_0$ to be $\\lvert 1 \\rangle$, so a logical error occurs.\n",
    "\n",
    "8. In this case, after the error we have that the state is $\\lvert 111 \\rangle$. The CNOT gates flip both $q_1$ and $q_2$ as the control qubit is in the 1 state, making the state $\\lvert 100 \\rangle$. Then, the Toffili gate does not flip the first qubit as both control qubits are in the 0 state, so we end with $q_0$ in the $\\lvert 1 \\rangle$ state and an error occurs."
   ]
  },
  {
   "cell_type": "markdown",
   "id": "5ebf978f-fbb6-4385-8e09-5d85c0ad7f9f",
   "metadata": {},
   "source": [
    "From this discussion, we see that the repetition code can error correct for single qubit errors in the case that the initial state is $\\lvert 0 \\rangle$. To complete the argument, we now consider an initial state of $q_0$ to be $\\lvert 1 \\rangle$. Then, the action of the CNOT gates in the beginning is such that both $q_1$ and $q_2$ get bit flipped as the control qubit is in the 1 state; hence, the state of the three qubits before the error is $\\lvert 1 1 1 \\rangle = \\lvert 1 \\rangle_0 \\otimes \\lvert 1 \\rangle_1 \\otimes \\lvert 1 \\rangle_2$. We could go through the analysis again, but instead we can just observe that cases 1-4 (either 0 or 1 bit flips) for the initial $\\lvert 1 \\rangle$ state correspond to cases 5-8 (2 or 3 bit flips) for the initial $\\lvert 0 \\rangle$ state. In cases 5-8 above, we indeed see that the final state is $\\lvert 1 \\rangle$ and hence for an initial state of $\\lvert \\psi \\rangle = \\lvert 1 \\rangle$ we see that the circuit has the intended effect of correcting errors for single qubit errors, and having a logical error for 2/3 qubit errors."
   ]
  },
  {
   "cell_type": "markdown",
   "id": "a0add479-4ec5-44d2-b972-06b6a8a629cf",
   "metadata": {},
   "source": [
    "With this discussion concluded, we now move onto the code for the Shor code and look at the results! To implement the Shor code, we can simply implement the above repetition code (with error correction!) at each level of encoding (e.g. a phase flip repetion code at the first level w/ error correction for single qubit phase flips, three bit flip repetition code at the second level w/ error corrections for single qubit (per block) bit flips). Let's see what the results will be!"
   ]
  },
  {
   "cell_type": "code",
   "execution_count": 6,
   "id": "49b1ec67-2496-40aa-a758-c00a723bb7ba",
   "metadata": {},
   "outputs": [],
   "source": [
    "def pauli_depol_noise(p):\n",
    "    depol_error = pauli_error([('X',p/3), ('Y', p/3), ('Z', p/3), ('I', 1 - p)])\n",
    "\n",
    "    noise_model = NoiseModel()\n",
    "    noise_model.add_all_qubit_quantum_error(depol_error, \"id\") # Error applied to qubits when identity gate applied\n",
    "    \n",
    "    return noise_model"
   ]
  },
  {
   "cell_type": "code",
   "execution_count": 7,
   "id": "6594d4be-9ed6-4d26-8142-a1f6e4724a86",
   "metadata": {},
   "outputs": [],
   "source": [
    "# Circuit where Shor code was applied\n",
    "def simulateShor(p, numruns, returnCircuit = False):\n",
    "    # Use Aer's qasm_simulator\n",
    "    simulator = QasmSimulator()\n",
    "\n",
    "    # Create a Quantum Circuit acting on the q register\n",
    "    circuit = QuantumCircuit(9, 9)\n",
    "\n",
    "    # Establishes noise model\n",
    "    noise_model = pauli_depol_noise(p)\n",
    "\n",
    "    # First part of Shor Code\n",
    "    circuit.cx(0,3)\n",
    "    circuit.cx(0,6)\n",
    "\n",
    "    circuit.h(0)\n",
    "    circuit.h(3)\n",
    "    circuit.h(6)\n",
    "\n",
    "    circuit.cx(0,1)\n",
    "    circuit.cx(3,4)\n",
    "    circuit.cx(6,7)\n",
    "\n",
    "    circuit.cx(0,2)\n",
    "    circuit.cx(3,5)\n",
    "    circuit.cx(6,8)\n",
    "\n",
    "    circuit.barrier()\n",
    "\n",
    "    ####error here############\n",
    "    for i in range(9):\n",
    "        circuit.id(i)\n",
    "    ############################\n",
    "\n",
    "    circuit.barrier()\n",
    "\n",
    "    # Second part of Shor Code\n",
    "    circuit.cx(0,1)\n",
    "    circuit.cx(3,4)\n",
    "    circuit.cx(6,7)\n",
    "\n",
    "    circuit.cx(0,2)\n",
    "    circuit.cx(3,5)\n",
    "    circuit.cx(6,8)\n",
    "\n",
    "    circuit.ccx(1,2,0)\n",
    "    circuit.ccx(4,5,3)\n",
    "    circuit.ccx(8,7,6)\n",
    "\n",
    "    circuit.h(0)\n",
    "    circuit.h(3)\n",
    "    circuit.h(6)\n",
    "\n",
    "    circuit.cx(0,3)\n",
    "    circuit.cx(0,6)\n",
    "    circuit.ccx(6,3,0)\n",
    "\n",
    "    circuit.barrier()\n",
    "    circuit.measure(0,0)\n",
    "    # compile the circuit down to low-level QASM instructions\n",
    "    # supported by the backend (not needed for simple circuits)\n",
    "    compiled_circuit = transpile(circuit, simulator)\n",
    "    \n",
    "    if(returnCircuit):\n",
    "        return circuit.draw()\n",
    "    else:\n",
    "        # Execute the circuit on the qasm simulator\n",
    "        job = simulator.run(compiled_circuit, noise_model=noise_model, shots=numruns)\n",
    "\n",
    "        # Grab results from the job\n",
    "        result = job.result()\n",
    "\n",
    "        # Returns counts\n",
    "        counts = result.get_counts(circuit)\n",
    "        #print(\"\\nTotal count of measurements are:\",counts)\n",
    "\n",
    "        return counts"
   ]
  },
  {
   "cell_type": "code",
   "execution_count": 8,
   "id": "0b8ca939-83f7-4cd6-b0ba-6394e28dfa4b",
   "metadata": {},
   "outputs": [],
   "source": [
    "# Circuit where Shor code was not applied\n",
    "def simulateNoShor(p, numruns, returnCircuit = False):\n",
    "    # Use Aer's qasm_simulator\n",
    "    simulator = QasmSimulator()\n",
    "    \n",
    "    # Builds circuit with one qubit\n",
    "    circuit = QuantumCircuit(1, 1)\n",
    "    \n",
    "    # Establishes noise model\n",
    "    noise_model = pauli_depol_noise(p)\n",
    "\n",
    "    # Applies identity gate (with depolarizing noise on it, as specified by error model)\n",
    "    circuit.id(0)\n",
    "\n",
    "    # Measures qubit\n",
    "    circuit.measure(0,0)\n",
    "\n",
    "    # compile the circuit down to low-level QASM instructions\n",
    "    compiled_circuit = transpile(circuit, simulator)\n",
    "    \n",
    "    if (returnCircuit):\n",
    "        return circuit.draw()\n",
    "    else:\n",
    "        # Execute the circuit on the qasm simulator\n",
    "        job = simulator.run(compiled_circuit, noise_model=noise_model, shots=numruns)\n",
    "\n",
    "        # Grab results from the job\n",
    "        result = job.result()\n",
    "\n",
    "        # Returns counts\n",
    "        counts = result.get_counts(circuit)\n",
    "        #print(\"\\nTotal count of measurements are:\",counts)\n",
    "\n",
    "        return counts"
   ]
  },
  {
   "cell_type": "markdown",
   "id": "0e44295a-74f3-4d7a-b3e1-cd0520bc564d",
   "metadata": {},
   "source": [
    "Since our qubit starts out in state $\\lvert\\psi\\rangle = \\lvert 0 \\rangle$, the depolarizing channel will create an error if an $X$ or $Y$ gate is applied (flipping the bit). Hence, for the case where we did not use the Shor code/no error correcting procedure, we would expect a $2p/3$ probability of error (measuring a $1$ instead of a $0$)."
   ]
  },
  {
   "cell_type": "code",
   "execution_count": 10,
   "id": "01992acb-9399-4123-a0c8-73833070ee29",
   "metadata": {},
   "outputs": [
    {
     "data": {
      "text/html": [
       "<pre style=\"word-wrap: normal;white-space: pre;background: #fff0;line-height: 1.1;font-family: &quot;Courier New&quot;,Courier,monospace\">     ┌───┐┌─┐\n",
       "q_0: ┤ I ├┤M├\n",
       "     └───┘└╥┘\n",
       "c: 1/══════╩═\n",
       "           0 </pre>"
      ],
      "text/plain": [
       "     ┌───┐┌─┐\n",
       "q_0: ┤ I ├┤M├\n",
       "     └───┘└╥┘\n",
       "c: 1/══════╩═\n",
       "           0 "
      ]
     },
     "execution_count": 10,
     "metadata": {},
     "output_type": "execute_result"
    }
   ],
   "source": [
    "simulateNoShor(0.5, 1000, True)"
   ]
  },
  {
   "cell_type": "code",
   "execution_count": 11,
   "id": "72911dd8-d1a3-4cbc-8894-22a1d443c490",
   "metadata": {},
   "outputs": [
    {
     "data": {
      "image/png": "[encoded data removed]",
      "text/plain": [
       "<Figure size 504x360 with 1 Axes>"
      ]
     },
     "execution_count": 11,
     "metadata": {},
     "output_type": "execute_result"
    }
   ],
   "source": [
    "plot_histogram(simulateNoShor(0.5, 1000))"
   ]
  },
  {
   "cell_type": "markdown",
   "id": "c9299d78-eb5a-4f93-9231-1c0b1869e8ab",
   "metadata": {},
   "source": [
    "Next, we visualize and see the results for the Shor code:"
   ]
  },
  {
   "cell_type": "code",
   "execution_count": 12,
   "id": "bffcfb28-3faf-4c82-9745-2cad3393f581",
   "metadata": {},
   "outputs": [
    {
     "data": {
      "text/html": [
       "<pre style=\"word-wrap: normal;white-space: pre;background: #fff0;line-height: 1.1;font-family: &quot;Courier New&quot;,Courier,monospace\">               ┌───┐           ░ ┌───┐ ░           ┌───┐┌───┐          ┌───┐ ░ »\n",
       "q_0: ──■────■──┤ H ├──■────■───░─┤ I ├─░───■────■──┤ X ├┤ H ├──■────■──┤ X ├─░─»\n",
       "       │    │  └───┘┌─┴─┐  │   ░ ├───┤ ░ ┌─┴─┐  │  └─┬─┘└───┘  │    │  └─┬─┘ ░ »\n",
       "q_1: ──┼────┼───────┤ X ├──┼───░─┤ I ├─░─┤ X ├──┼────■─────────┼────┼────┼───░─»\n",
       "       │    │       └───┘┌─┴─┐ ░ ├───┤ ░ └───┘┌─┴─┐  │         │    │    │   ░ »\n",
       "q_2: ──┼────┼────────────┤ X ├─░─┤ I ├─░──────┤ X ├──■─────────┼────┼────┼───░─»\n",
       "     ┌─┴─┐  │  ┌───┐     └───┘ ░ ├───┤ ░      └───┘┌───┐┌───┐┌─┴─┐  │    │   ░ »\n",
       "q_3: ┤ X ├──┼──┤ H ├──■────■───░─┤ I ├─░───■────■──┤ X ├┤ H ├┤ X ├──┼────■───░─»\n",
       "     └───┘  │  └───┘┌─┴─┐  │   ░ ├───┤ ░ ┌─┴─┐  │  └─┬─┘└───┘└───┘  │    │   ░ »\n",
       "q_4: ───────┼───────┤ X ├──┼───░─┤ I ├─░─┤ X ├──┼────■──────────────┼────┼───░─»\n",
       "            │       └───┘┌─┴─┐ ░ ├───┤ ░ └───┘┌─┴─┐  │              │    │   ░ »\n",
       "q_5: ───────┼────────────┤ X ├─░─┤ I ├─░──────┤ X ├──■──────────────┼────┼───░─»\n",
       "          ┌─┴─┐┌───┐     └───┘ ░ ├───┤ ░      └───┘┌───┐┌───┐     ┌─┴─┐  │   ░ »\n",
       "q_6: ─────┤ X ├┤ H ├──■────■───░─┤ I ├─░───■────■──┤ X ├┤ H ├─────┤ X ├──■───░─»\n",
       "          └───┘└───┘┌─┴─┐  │   ░ ├───┤ ░ ┌─┴─┐  │  └─┬─┘└───┘     └───┘      ░ »\n",
       "q_7: ───────────────┤ X ├──┼───░─┤ I ├─░─┤ X ├──┼────■───────────────────────░─»\n",
       "                    └───┘┌─┴─┐ ░ ├───┤ ░ └───┘┌─┴─┐  │                       ░ »\n",
       "q_8: ────────────────────┤ X ├─░─┤ I ├─░──────┤ X ├──■───────────────────────░─»\n",
       "                         └───┘ ░ └───┘ ░      └───┘                          ░ »\n",
       "c: 9/══════════════════════════════════════════════════════════════════════════»\n",
       "                                                                               »\n",
       "«     ┌─┐\n",
       "«q_0: ┤M├\n",
       "«     └╥┘\n",
       "«q_1: ─╫─\n",
       "«      ║ \n",
       "«q_2: ─╫─\n",
       "«      ║ \n",
       "«q_3: ─╫─\n",
       "«      ║ \n",
       "«q_4: ─╫─\n",
       "«      ║ \n",
       "«q_5: ─╫─\n",
       "«      ║ \n",
       "«q_6: ─╫─\n",
       "«      ║ \n",
       "«q_7: ─╫─\n",
       "«      ║ \n",
       "«q_8: ─╫─\n",
       "«      ║ \n",
       "«c: 9/═╩═\n",
       "«      0 </pre>"
      ],
      "text/plain": [
       "               ┌───┐           ░ ┌───┐ ░           ┌───┐┌───┐          ┌───┐ ░ »\n",
       "q_0: ──■────■──┤ H ├──■────■───░─┤ I ├─░───■────■──┤ X ├┤ H ├──■────■──┤ X ├─░─»\n",
       "       │    │  └───┘┌─┴─┐  │   ░ ├───┤ ░ ┌─┴─┐  │  └─┬─┘└───┘  │    │  └─┬─┘ ░ »\n",
       "q_1: ──┼────┼───────┤ X ├──┼───░─┤ I ├─░─┤ X ├──┼────■─────────┼────┼────┼───░─»\n",
       "       │    │       └───┘┌─┴─┐ ░ ├───┤ ░ └───┘┌─┴─┐  │         │    │    │   ░ »\n",
       "q_2: ──┼────┼────────────┤ X ├─░─┤ I ├─░──────┤ X ├──■─────────┼────┼────┼───░─»\n",
       "     ┌─┴─┐  │  ┌───┐     └───┘ ░ ├───┤ ░      └───┘┌───┐┌───┐┌─┴─┐  │    │   ░ »\n",
       "q_3: ┤ X ├──┼──┤ H ├──■────■───░─┤ I ├─░───■────■──┤ X ├┤ H ├┤ X ├──┼────■───░─»\n",
       "     └───┘  │  └───┘┌─┴─┐  │   ░ ├───┤ ░ ┌─┴─┐  │  └─┬─┘└───┘└───┘  │    │   ░ »\n",
       "q_4: ───────┼───────┤ X ├──┼───░─┤ I ├─░─┤ X ├──┼────■──────────────┼────┼───░─»\n",
       "            │       └───┘┌─┴─┐ ░ ├───┤ ░ └───┘┌─┴─┐  │              │    │   ░ »\n",
       "q_5: ───────┼────────────┤ X ├─░─┤ I ├─░──────┤ X ├──■──────────────┼────┼───░─»\n",
       "          ┌─┴─┐┌───┐     └───┘ ░ ├───┤ ░      └───┘┌───┐┌───┐     ┌─┴─┐  │   ░ »\n",
       "q_6: ─────┤ X ├┤ H ├──■────■───░─┤ I ├─░───■────■──┤ X ├┤ H ├─────┤ X ├──■───░─»\n",
       "          └───┘└───┘┌─┴─┐  │   ░ ├───┤ ░ ┌─┴─┐  │  └─┬─┘└───┘     └───┘      ░ »\n",
       "q_7: ───────────────┤ X ├──┼───░─┤ I ├─░─┤ X ├──┼────■───────────────────────░─»\n",
       "                    └───┘┌─┴─┐ ░ ├───┤ ░ └───┘┌─┴─┐  │                       ░ »\n",
       "q_8: ────────────────────┤ X ├─░─┤ I ├─░──────┤ X ├──■───────────────────────░─»\n",
       "                         └───┘ ░ └───┘ ░      └───┘                          ░ »\n",
       "c: 9/══════════════════════════════════════════════════════════════════════════»\n",
       "                                                                               »\n",
       "«     ┌─┐\n",
       "«q_0: ┤M├\n",
       "«     └╥┘\n",
       "«q_1: ─╫─\n",
       "«      ║ \n",
       "«q_2: ─╫─\n",
       "«      ║ \n",
       "«q_3: ─╫─\n",
       "«      ║ \n",
       "«q_4: ─╫─\n",
       "«      ║ \n",
       "«q_5: ─╫─\n",
       "«      ║ \n",
       "«q_6: ─╫─\n",
       "«      ║ \n",
       "«q_7: ─╫─\n",
       "«      ║ \n",
       "«q_8: ─╫─\n",
       "«      ║ \n",
       "«c: 9/═╩═\n",
       "«      0 "
      ]
     },
     "execution_count": 12,
     "metadata": {},
     "output_type": "execute_result"
    }
   ],
   "source": [
    "simulateShor(0.5, 1000, True)"
   ]
  },
  {
   "cell_type": "code",
   "execution_count": 13,
   "id": "a8d15718-83db-4fff-95f6-007f62f79ad4",
   "metadata": {},
   "outputs": [
    {
     "data": {
      "image/png": "[encoded data removed]",
      "text/plain": [
       "<Figure size 504x360 with 1 Axes>"
      ]
     },
     "execution_count": 13,
     "metadata": {},
     "output_type": "execute_result"
    }
   ],
   "source": [
    "plot_histogram(simulateShor(0.5, 1000))"
   ]
  },
  {
   "cell_type": "markdown",
   "id": "cc0ea38f-6b2e-44c8-bca8-ad4f52fb4eb1",
   "metadata": {},
   "source": [
    "Above we have the circuits as well as the resulting measurement outcomes. We see that if $p = 0.5$, the Shor code performs worse than the case where we had no Code/error correction whatsoever. Evidently this is over the threshold. "
   ]
  },
  {
   "cell_type": "code",
   "execution_count": 14,
   "id": "719bc159-39fb-44c4-8fc1-a5f7cb27bfa6",
   "metadata": {},
   "outputs": [],
   "source": [
    "numruns = 5000\n",
    "par = np.linspace(0.01, 1, 100)\n",
    "noshorlist = []\n",
    "shorlist = []\n",
    "\n",
    "for p in par:\n",
    "    noshorlist.append(simulateNoShor(p, numruns).get(\"1\") / numruns)\n",
    "    shorlist.append(simulateShor(p, numruns).get(\"000000001\") / numruns)"
   ]
  },
  {
   "cell_type": "code",
   "execution_count": 15,
   "id": "575d6373-e9e1-4525-bdeb-f342694811fd",
   "metadata": {},
   "outputs": [
    {
     "data": {
      "image/png": "[encoded data removed]",
      "text/plain": [
       "<Figure size 432x288 with 1 Axes>"
      ]
     },
     "metadata": {
      "needs_background": "light"
     },
     "output_type": "display_data"
    }
   ],
   "source": [
    "plt.plot(par, noshorlist, label = \"No error correction\")\n",
    "plt.plot(par, shorlist, label = \"Shor Code w. error correction procedure\")\n",
    "plt.xlabel(\"Physical error rate p\")\n",
    "plt.ylabel(\"''Logical error rate''\")\n",
    "plt.title(\"Logical vs. Physical Error rates for depolarizing Pauli Noise \\n (Comparison of 9-qubit shor code w/ no error correction, Initial state = |0>)\")\n",
    "plt.legend(loc = \"best\")\n",
    "plt.show()"
   ]
  },
  {
   "cell_type": "markdown",
   "id": "8f4ff74c-28a8-4baf-b7b4-32f942ccabf5",
   "metadata": {},
   "source": [
    "Note that although we call it the \"logical error rate\" in the above plot, what is really plotted on the y-axis is the ratio of the 1 outcome measurement to the total number of measurements. For the state not affected by any error, we have the initial state in the eigenstate $\\lvert 0 \\rangle$ which returns the measurement outcome of 0 100% of the time. As we increase the physical error rate $p$ of the depolarizing Pauli noise, the chance of measuring outcome 1 will go up as error can affect the state. However, it is notable that what we have here isn't quite the logical error rate, as we are in a sense inferring the state from the measurement outcome (which is obviously false; we cannnot infer a quantum state from a single measurement in a fixed basis! Multiple measurements across multiple bases are required for this). So, we really are characterizing the error rate on the y-axis, rather than plotting it exactly. \n",
    "\n",
    "From the above plot, we find that the concatenation threshold is in the region between $p = 0.05$ and $p = 0.1$. Note that as $p \\rightarrow 1$, in the case of no-error correction we have that the \"logical error rate\" goes to $0.66$ (which makes sense as only 2/3 of the errors, namely the X and Y errors, will have any effect on the initial state of $\\lvert 0 \\rangle$). However, for the case of the Shor code, we have that as $p \\rightarrow 1$, the \"logical error rate\" goes to $0.5$, that is, we measure 0 and 1 outcomes with equal probability. By applying the Shor code and increasing the physical error rate, we in a sense maximally depolarize the quantum state such that both measurement outcomes are equally as likely. \n",
    "\n",
    "Again, we note that it's not actually possible to construct the logical error rate because what we can obtain from this simulation are really measurement outcomes; however, bounding/approximating the error rate certainly seems feasible. Let us run a more fine scan in the region where the two curves intersect, that is $p \\in [0.05, 0.1]$."
   ]
  },
  {
   "cell_type": "code",
   "execution_count": 17,
   "id": "d1d602b2-a048-43dc-8ea9-2b545fb7dba7",
   "metadata": {},
   "outputs": [],
   "source": [
    "numruns = 15000\n",
    "par = np.linspace(0.05, 0.1, 100)\n",
    "noshorlist = []\n",
    "shorlist = []\n",
    "\n",
    "for p in par:\n",
    "    noshorlist.append(simulateNoShor(p, numruns).get(\"1\") / numruns)\n",
    "    shorlist.append(simulateShor(p, numruns).get(\"000000001\") / numruns)"
   ]
  },
  {
   "cell_type": "code",
   "execution_count": 18,
   "id": "024cdcd1-4440-4085-9370-80329ef809ee",
   "metadata": {},
   "outputs": [
    {
     "data": {
      "image/png": "[encoded data removed]",
      "text/plain": [
       "<Figure size 432x288 with 1 Axes>"
      ]
     },
     "metadata": {
      "needs_background": "light"
     },
     "output_type": "display_data"
    }
   ],
   "source": [
    "plt.plot(par, noshorlist, label = \"No error correction\")\n",
    "plt.plot(par, shorlist, label = \"Shor Code w. error correction procedure\")\n",
    "plt.xlabel(\"Physical error rate p\")\n",
    "plt.ylabel(\"''Logical error rate''\")\n",
    "plt.title(\"Logical vs. Physical Error rates for depolarizing Pauli Noise \\n (Comparison of 9-qubit shor code w/ no error correction, Initial state = |0>)\")\n",
    "plt.legend(loc = \"best\")\n",
    "plt.show()"
   ]
  },
  {
   "cell_type": "markdown",
   "id": "afce92cb-dbc0-41b6-8e86-d817dd34675a",
   "metadata": {},
   "source": [
    "From this, we estimate the concatenation threshold to be $p = 0.075 \\pm 0.1$. "
   ]
  },
  {
   "cell_type": "code",
   "execution_count": null,
   "id": "0e9c3d74-2a52-46df-984f-a7a027a90239",
   "metadata": {},
   "outputs": [],
   "source": []
  }
 ],
 "metadata": {
  "kernelspec": {
   "display_name": "Python 3",
   "language": "python",
   "name": "python3"
  },
  "language_info": {
   "codemirror_mode": {
    "name": "ipython",
    "version": 3
   },
   "file_extension": ".py",
   "mimetype": "text/x-python",
   "name": "python",
   "nbconvert_exporter": "python",
   "pygments_lexer": "ipython3",
   "version": "3.8.10"
  }
 },
 "nbformat": 4,
 "nbformat_minor": 5
}
