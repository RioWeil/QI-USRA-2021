{
 "cells": [
  {
   "cell_type": "code",
   "execution_count": 3,
   "metadata": {},
   "outputs": [],
   "source": [
    "# HW1Q3.ipynb\n",
    "# Date: 07/30/2021\n",
    "# Author: Rio Weil\n",
    "# Functionality: Calculates the concatenation threshold for the 9-qubit Shor Code under independent depolarizing Pauli noise analytically.\n",
    "# Note: The errors under concatenation are found by counting 4^9 possible combinations (inefficient)."
   ]
  },
  {
   "cell_type": "code",
   "execution_count": 8,
   "metadata": {},
   "outputs": [],
   "source": [
    "import numpy as np\n",
    "import matplotlib.pyplot as plt"
   ]
  },
  {
   "cell_type": "markdown",
   "metadata": {},
   "source": [
    "We now proceed to compute the error threshold analytically by using a computer program to check all cases. We start by initializing some empty lists."
   ]
  },
  {
   "cell_type": "code",
   "execution_count": 66,
   "metadata": {},
   "outputs": [],
   "source": [
    "gatelist = np.array([\"I\", \"X\", \"Y\", \"Z\"])\n",
    "pxlist = []\n",
    "pylist = []\n",
    "pzlist = []"
   ]
  },
  {
   "cell_type": "markdown",
   "metadata": {},
   "source": [
    "We now define some helper functions to declare whether a net X or Z error occured on a given block:"
   ]
  },
  {
   "cell_type": "code",
   "execution_count": 56,
   "metadata": {},
   "outputs": [],
   "source": [
    "def checkx(q1, q2, q3):\n",
    "    if q1 == \"X\" or q1 == \"Y\":\n",
    "        x1 = 1\n",
    "    else:\n",
    "        x1 = 0\n",
    "    if q2 == \"X\" or q2 == \"Y\":\n",
    "        x2 = 1\n",
    "    else:\n",
    "        x2 = 0\n",
    "    if q3 == \"X\" or q3 == \"Y\":\n",
    "        x3 = 1\n",
    "    else:\n",
    "        x3 = 0\n",
    "    if (x1 + x2 + x3) > 1:\n",
    "        return 1\n",
    "    else:\n",
    "        return 0\n",
    "\n",
    "def checkz(q1, q2, q3):\n",
    "    if q1 == \"Z\" or q1 == \"Y\":\n",
    "        z1 = 1\n",
    "    else:\n",
    "        z1 = 0\n",
    "    if q2 == \"Z\" or q2 == \"Y\":\n",
    "        z2 = 1\n",
    "    else:\n",
    "        z2 = 0\n",
    "    if q3 == \"Z\" or q3 == \"Y\":\n",
    "        z3 = 1\n",
    "    else:\n",
    "        z3 = 0\n",
    "    return (z1 + z2 + z3) % 2"
   ]
  },
  {
   "cell_type": "markdown",
   "metadata": {},
   "source": [
    "Now, we iterate over all $4^9$ possible combinations of errors, and record which error combinations result in a logical $X$, $Y$, or $Z$ error."
   ]
  },
  {
   "cell_type": "code",
   "execution_count": 95,
   "metadata": {},
   "outputs": [],
   "source": [
    "for a in gatelist:\n",
    "    for b in gatelist:\n",
    "        for c in gatelist:\n",
    "            for d in gatelist:\n",
    "                for e in gatelist:\n",
    "                    for f in gatelist:\n",
    "                        for g in gatelist:\n",
    "                            for h in gatelist:\n",
    "                                for i in gatelist:\n",
    "                                    error = a + b + c + d + e + f + g + h + i\n",
    "                                    xerr = False\n",
    "                                    zerr = False\n",
    "                                    xcheck1 = checkx(a, b, c)\n",
    "                                    xcheck2 = checkx(d, e, f)\n",
    "                                    xcheck3 = checkx(g, h, i)\n",
    "                                    if ((xcheck1 + xcheck2 + xcheck3) % 2) == 1:\n",
    "                                        xerr = True\n",
    "                                    zcheck1 = checkz(a, b, c)\n",
    "                                    zcheck2 = checkz(d, e, f)\n",
    "                                    zcheck3 = checkz(g, h, i)\n",
    "                                    if (zcheck1 + zcheck2 + zcheck3) > 1:\n",
    "                                        zerr = True\n",
    "                                    if xerr:\n",
    "                                        if zerr:\n",
    "                                            pylist.append(error)\n",
    "                                        else:\n",
    "                                            pxlist.append(error)\n",
    "                                    else:\n",
    "                                        if zerr:\n",
    "                                            pzlist.append(error)"
   ]
  },
  {
   "cell_type": "markdown",
   "metadata": {},
   "source": [
    "Before we pass these tabulated results to the symbolic calculator, we first simplify. We group errors in terms of their error classes (i.e. the name number of each type of error). An example would be that \"IIIIIIIXX\" and \"XXIIIIIII\" would be in the same error class. As such, we make a function that counts the anagrams of each error type, and groups them together."
   ]
  },
  {
   "cell_type": "code",
   "execution_count": 96,
   "metadata": {},
   "outputs": [],
   "source": [
    "def create_anagrams_list(wordlist):\n",
    "    sortedlist = []\n",
    "    for i in range(len(wordlist)):\n",
    "        wordlist[i] = sorted(wordlist[i])\n",
    "    while (len(wordlist) != 0):\n",
    "        word = wordlist[0]\n",
    "        count = 0\n",
    "        for i in range(len(wordlist)):\n",
    "            if (word == wordlist[i]):\n",
    "                count += 1\n",
    "        for i in range(count):\n",
    "            wordlist.remove(word)\n",
    "        sortedlist.append([word, count])   \n",
    "    return sortedlist"
   ]
  },
  {
   "cell_type": "code",
   "execution_count": 97,
   "metadata": {},
   "outputs": [],
   "source": [
    "def process_list(almost_done):\n",
    "    for i in range(len(almost_done)):\n",
    "        word = \"\"\n",
    "        for j in range(9):\n",
    "            word += almost_done[i][0][j]\n",
    "        almost_done[i] = [word, almost_done[i][1]]"
   ]
  },
  {
   "cell_type": "markdown",
   "metadata": {},
   "source": [
    "With these functions created, we just need to run them on each of the outputs of the error counter. Note that this is *very* slow. In particular the way I wrote the anagram counter is $O(n^2)$. This could be improved using a dictionary (reducing this to $O(n)$) but I was lazy (and in theory, we just run this the one time and never again). Note that it does take > 5 minutes per processing."
   ]
  },
  {
   "cell_type": "code",
   "execution_count": 168,
   "metadata": {},
   "outputs": [],
   "source": [
    "sorted_pxlist = create_anagrams_list(pxlist)"
   ]
  },
  {
   "cell_type": "code",
   "execution_count": 169,
   "metadata": {},
   "outputs": [],
   "source": [
    "process_list(sorted_pxlist)"
   ]
  },
  {
   "cell_type": "code",
   "execution_count": 98,
   "metadata": {},
   "outputs": [],
   "source": [
    "sorted_pylist = create_anagrams_list(pylist)"
   ]
  },
  {
   "cell_type": "code",
   "execution_count": 99,
   "metadata": {},
   "outputs": [],
   "source": [
    "process_list(sorted_pylist)"
   ]
  },
  {
   "cell_type": "code",
   "execution_count": 101,
   "metadata": {},
   "outputs": [],
   "source": [
    "sorted_pzlist = create_anagrams_list(pzlist)"
   ]
  },
  {
   "cell_type": "code",
   "execution_count": 102,
   "metadata": {},
   "outputs": [],
   "source": [
    "process_list(sorted_pzlist)"
   ]
  },
  {
   "cell_type": "code",
   "execution_count": 114,
   "metadata": {},
   "outputs": [],
   "source": [
    "#print(sorted_pxlist)\n",
    "#print(sorted_pylist)\n",
    "#print(sorted_pzlist)"
   ]
  },
  {
   "cell_type": "markdown",
   "metadata": {},
   "source": [
    "Now, we use sympy to help us with some of the algebra."
   ]
  },
  {
   "cell_type": "code",
   "execution_count": 4,
   "metadata": {},
   "outputs": [],
   "source": [
    "from sympy import *"
   ]
  },
  {
   "cell_type": "markdown",
   "metadata": {},
   "source": [
    "We will use $x, y, z$ to denote $p_x, p_y, p_z$ (where these are the physical error rates)"
   ]
  },
  {
   "cell_type": "code",
   "execution_count": 107,
   "metadata": {},
   "outputs": [],
   "source": [
    "x, y, z = symbols(\"x y z\")"
   ]
  },
  {
   "cell_type": "markdown",
   "metadata": {},
   "source": [
    "This function takes in the sorted list of errors, and produces a symbolic expression of the concatenated error."
   ]
  },
  {
   "cell_type": "code",
   "execution_count": 117,
   "metadata": {},
   "outputs": [],
   "source": [
    "def make_symbolic(sortedlist):\n",
    "    finalexpr = 0\n",
    "    for i in range(len(sortedlist)):\n",
    "        string = sortedlist[i][0]\n",
    "        expr = sortedlist[i][1]\n",
    "        for j in range(len(string)):\n",
    "            if string[j] == \"X\":\n",
    "                expr *= x\n",
    "            elif string[j] == \"Y\":\n",
    "                expr *= y\n",
    "            elif string[j] == \"Z\":\n",
    "                expr *= z\n",
    "            else:\n",
    "                expr *= (1 - x - y - z)\n",
    "        finalexpr += expr\n",
    "    return finalexpr"
   ]
  },
  {
   "cell_type": "markdown",
   "metadata": {},
   "source": [
    "Below we have $p_x, p_y, p_z$ where these represent the logical error after one level of concatenation of the 9-qubit Shor code."
   ]
  },
  {
   "cell_type": "code",
   "execution_count": 170,
   "metadata": {},
   "outputs": [],
   "source": [
    "px = make_symbolic(sorted_pxlist)\n",
    "py = make_symbolic(sorted_pylist)\n",
    "pz = make_symbolic(sorted_pzlist)"
   ]
  },
  {
   "cell_type": "code",
   "execution_count": 176,
   "metadata": {},
   "outputs": [
    {
     "data": {
      "image/png": "[encoded data removed]",
      "text/latex": [
       "$\\displaystyle 216 x^{7} y^{2} - 432 x^{7} y z + 216 x^{7} z^{2} + 1296 x^{6} y^{3} - 648 x^{6} y^{2} z - 1188 x^{6} y^{2} - 864 x^{6} y z^{2} + 1512 x^{6} y z + 216 x^{6} z^{3} - 324 x^{6} z^{2} + 2952 x^{5} y^{4} + 2016 x^{5} y^{3} z - 5400 x^{5} y^{3} + 648 x^{5} y^{2} z^{2} - 864 x^{5} y^{2} z + 2376 x^{5} y^{2} - 1872 x^{5} y z^{3} + 2376 x^{5} y z^{2} - 1296 x^{5} y z - 288 x^{5} z^{4} + 432 x^{5} z^{3} - 216 x^{5} z^{2} + 3312 x^{4} y^{5} + 3960 x^{4} y^{4} z - 8820 x^{4} y^{4} + 6480 x^{4} y^{3} z^{2} - 9720 x^{4} y^{3} z + 7452 x^{4} y^{3} + 4680 x^{4} y^{2} z^{3} - 9180 x^{4} y^{2} z^{2} + 6156 x^{4} y^{2} z - 1998 x^{4} y^{2} - 720 x^{4} y z^{4} + 720 x^{4} y z^{3} + 324 x^{4} y z^{2} - 540 x^{4} y z - 432 x^{4} z^{5} + 1080 x^{4} z^{4} - 972 x^{4} z^{3} + 378 x^{4} z^{2} + 2184 x^{3} y^{6} + 1872 x^{3} y^{5} z - 7056 x^{3} y^{5} + 1800 x^{3} y^{4} z^{2} - 7200 x^{3} y^{4} z + 7848 x^{3} y^{4} + 5280 x^{3} y^{3} z^{3} - 12240 x^{3} y^{3} z^{2} + 10224 x^{3} y^{3} z - 3456 x^{3} y^{3} + 7200 x^{3} y^{2} z^{4} - 15840 x^{3} y^{2} z^{3} + 14256 x^{3} y^{2} z^{2} - 5832 x^{3} y^{2} z + 486 x^{3} y^{2} + 2304 x^{3} y z^{5} - 5760 x^{3} y z^{4} + 6192 x^{3} y z^{3} - 3456 x^{3} y z^{2} + 972 x^{3} y z + 96 x^{3} z^{6} - 288 x^{3} z^{5} + 360 x^{3} z^{4} - 216 x^{3} z^{3} + 54 x^{3} z^{2} + 1008 x^{2} y^{7} + 1224 x^{2} y^{6} z - 3708 x^{2} y^{6} - 1728 x^{2} y^{5} z^{2} - 2376 x^{2} y^{5} z + 4536 x^{2} y^{5} - 6840 x^{2} y^{4} z^{3} + 5940 x^{2} y^{4} z^{2} + 1296 x^{2} y^{4} z - 1800 x^{2} y^{4} - 4320 x^{2} y^{3} z^{4} + 7200 x^{2} y^{3} z^{3} - 2376 x^{2} y^{3} z^{2} - 576 x^{2} y^{3} z - 216 x^{2} y^{3} + 1728 x^{2} y^{2} z^{5} - 4320 x^{2} y^{2} z^{4} + 4968 x^{2} y^{2} z^{3} - 2916 x^{2} y^{2} z^{2} + 594 x^{2} y^{2} z + 189 x^{2} y^{2} + 1728 x^{2} y z^{6} - 5184 x^{2} y z^{5} + 6480 x^{2} y z^{4} - 4248 x^{2} y z^{3} + 1404 x^{2} y z^{2} - 162 x^{2} y z + 288 x^{2} z^{7} - 1008 x^{2} z^{6} + 1512 x^{2} z^{5} - 1260 x^{2} z^{4} + 594 x^{2} z^{3} - 135 x^{2} z^{2} + 216 x y^{8} + 576 x y^{7} z - 1080 x y^{7} + 216 x y^{6} z^{2} - 1728 x y^{6} z + 1728 x y^{6} - 3600 x y^{5} z^{3} + 3240 x y^{5} z^{2} + 432 x y^{5} z - 792 x y^{5} - 8640 x y^{4} z^{4} + 16560 x y^{4} z^{3} - 10584 x y^{4} z^{2} + 2664 x y^{4} z - 450 x y^{4} - 8640 x y^{3} z^{5} + 21600 x y^{3} z^{4} - 21168 x y^{3} z^{3} + 10368 x y^{3} z^{2} - 2808 x y^{3} z + 486 x y^{3} - 3744 x y^{2} z^{6} + 11232 x y^{2} z^{5} - 14040 x y^{2} z^{4} + 9432 x y^{2} z^{3} - 3834 x y^{2} z^{2} + 972 x y^{2} z - 108 x y^{2} - 576 x y z^{7} + 2016 x y z^{6} - 3024 x y z^{5} + 2520 x y z^{4} - 1332 x y z^{3} + 486 x y z^{2} - 108 x y z - 48 y^{9} - 504 y^{8} z + 180 y^{8} - 2160 y^{7} z^{2} + 1944 y^{7} z - 324 y^{7} - 5544 y^{6} z^{3} + 7884 y^{6} z^{2} - 3564 y^{6} z + 462 y^{6} - 9360 y^{5} z^{4} + 18576 y^{5} z^{3} - 13500 y^{5} z^{2} + 4284 y^{5} z - 540 y^{5} - 11088 y^{4} z^{5} + 27720 y^{4} z^{4} - 27612 y^{4} z^{3} + 13770 y^{4} z^{2} - 3510 y^{4} z + 405 y^{4} - 8832 y^{3} z^{6} + 26496 y^{3} z^{5} - 33120 y^{3} z^{4} + 22104 y^{3} z^{3} - 8424 y^{3} z^{2} + 1782 y^{3} z - 162 y^{3} - 4320 y^{2} z^{7} + 15120 y^{2} z^{6} - 22680 y^{2} z^{5} + 18900 y^{2} z^{4} - 9486 y^{2} z^{3} + 2889 y^{2} z^{2} - 486 y^{2} z + 27 y^{2} - 1152 y z^{8} + 4608 y z^{7} - 8064 y z^{6} + 8064 y z^{5} - 5040 y z^{4} + 2016 y z^{3} - 486 y z^{2} + 54 y z - 128 z^{9} + 576 z^{8} - 1152 z^{7} + 1344 z^{6} - 1008 z^{5} + 504 z^{4} - 162 z^{3} + 27 z^{2}$"
      ],
      "text/plain": [
       "     7  2        7            7  2         6  3        6  2           6  2    \n",
       "216*x *y  - 432*x *y*z + 216*x *z  + 1296*x *y  - 648*x *y *z - 1188*x *y  - 8\n",
       "\n",
       "    6    2         6            6  3        6  2         5  4         5  3    \n",
       "64*x *y*z  + 1512*x *y*z + 216*x *z  - 324*x *z  + 2952*x *y  + 2016*x *y *z -\n",
       "\n",
       "       5  3        5  2  2        5  2           5  2         5    3         5\n",
       " 5400*x *y  + 648*x *y *z  - 864*x *y *z + 2376*x *y  - 1872*x *y*z  + 2376*x \n",
       "\n",
       "    2         5            5  4        5  3        5  2         4  5         4\n",
       "*y*z  - 1296*x *y*z - 288*x *z  + 432*x *z  - 216*x *z  + 3312*x *y  + 3960*x \n",
       "\n",
       "  4           4  4         4  3  2         4  3           4  3         4  2  3\n",
       "*y *z - 8820*x *y  + 6480*x *y *z  - 9720*x *y *z + 7452*x *y  + 4680*x *y *z \n",
       "\n",
       "         4  2  2         4  2           4  2        4    4        4    3      \n",
       " - 9180*x *y *z  + 6156*x *y *z - 1998*x *y  - 720*x *y*z  + 720*x *y*z  + 324\n",
       "\n",
       "  4    2        4            4  5         4  4        4  3        4  2        \n",
       "*x *y*z  - 540*x *y*z - 432*x *z  + 1080*x *z  - 972*x *z  + 378*x *z  + 2184*\n",
       "\n",
       " 3  6         3  5           3  5         3  4  2         3  4           3  4 \n",
       "x *y  + 1872*x *y *z - 7056*x *y  + 1800*x *y *z  - 7200*x *y *z + 7848*x *y  \n",
       "\n",
       "        3  3  3          3  3  2          3  3           3  3         3  2  4 \n",
       "+ 5280*x *y *z  - 12240*x *y *z  + 10224*x *y *z - 3456*x *y  + 7200*x *y *z  \n",
       "\n",
       "         3  2  3          3  2  2         3  2          3  2         3    5   \n",
       "- 15840*x *y *z  + 14256*x *y *z  - 5832*x *y *z + 486*x *y  + 2304*x *y*z  - \n",
       "\n",
       "      3    4         3    3         3    2        3           3  6        3  5\n",
       "5760*x *y*z  + 6192*x *y*z  - 3456*x *y*z  + 972*x *y*z + 96*x *z  - 288*x *z \n",
       "\n",
       "        3  4        3  3       3  2         2  7         2  6           2  6  \n",
       " + 360*x *z  - 216*x *z  + 54*x *z  + 1008*x *y  + 1224*x *y *z - 3708*x *y  -\n",
       "\n",
       "       2  5  2         2  5           2  5         2  4  3         2  4  2    \n",
       " 1728*x *y *z  - 2376*x *y *z + 4536*x *y  - 6840*x *y *z  + 5940*x *y *z  + 1\n",
       "\n",
       "     2  4           2  4         2  3  4         2  3  3         2  3  2      \n",
       "296*x *y *z - 1800*x *y  - 4320*x *y *z  + 7200*x *y *z  - 2376*x *y *z  - 576\n",
       "\n",
       "  2  3          2  3         2  2  5         2  2  4         2  2  3         2\n",
       "*x *y *z - 216*x *y  + 1728*x *y *z  - 4320*x *y *z  + 4968*x *y *z  - 2916*x \n",
       "\n",
       "  2  2        2  2          2  2         2    6         2    5         2    4 \n",
       "*y *z  + 594*x *y *z + 189*x *y  + 1728*x *y*z  - 5184*x *y*z  + 6480*x *y*z  \n",
       "\n",
       "        2    3         2    2        2            2  7         2  6         2 \n",
       "- 4248*x *y*z  + 1404*x *y*z  - 162*x *y*z + 288*x *z  - 1008*x *z  + 1512*x *\n",
       "\n",
       " 5         2  4        2  3        2  2          8          7             7   \n",
       "z  - 1260*x *z  + 594*x *z  - 135*x *z  + 216*x*y  + 576*x*y *z - 1080*x*y  + \n",
       "\n",
       "       6  2           6             6           5  3           5  2          5\n",
       "216*x*y *z  - 1728*x*y *z + 1728*x*y  - 3600*x*y *z  + 3240*x*y *z  + 432*x*y \n",
       "\n",
       "            5           4  4            4  3            4  2           4      \n",
       "*z - 792*x*y  - 8640*x*y *z  + 16560*x*y *z  - 10584*x*y *z  + 2664*x*y *z - 4\n",
       "\n",
       "      4           3  5            3  4            3  3            3  2        \n",
       "50*x*y  - 8640*x*y *z  + 21600*x*y *z  - 21168*x*y *z  + 10368*x*y *z  - 2808*\n",
       "\n",
       "   3            3           2  6            2  5            2  4           2  \n",
       "x*y *z + 486*x*y  - 3744*x*y *z  + 11232*x*y *z  - 14040*x*y *z  + 9432*x*y *z\n",
       "\n",
       "3           2  2          2            2            7             6           \n",
       "  - 3834*x*y *z  + 972*x*y *z - 108*x*y  - 576*x*y*z  + 2016*x*y*z  - 3024*x*y\n",
       "\n",
       "  5             4             3            2                   9        8     \n",
       "*z  + 2520*x*y*z  - 1332*x*y*z  + 486*x*y*z  - 108*x*y*z - 48*y  - 504*y *z + \n",
       "\n",
       "     8         7  2         7          7         6  3         6  2         6  \n",
       "180*y  - 2160*y *z  + 1944*y *z - 324*y  - 5544*y *z  + 7884*y *z  - 3564*y *z\n",
       "\n",
       "        6         5  4          5  3          5  2         5          5       \n",
       " + 462*y  - 9360*y *z  + 18576*y *z  - 13500*y *z  + 4284*y *z - 540*y  - 1108\n",
       "\n",
       "   4  5          4  4          4  3          4  2         4          4        \n",
       "8*y *z  + 27720*y *z  - 27612*y *z  + 13770*y *z  - 3510*y *z + 405*y  - 8832*\n",
       "\n",
       " 3  6          3  5          3  4          3  3         3  2         3        \n",
       "y *z  + 26496*y *z  - 33120*y *z  + 22104*y *z  - 8424*y *z  + 1782*y *z - 162\n",
       "\n",
       "  3         2  7          2  6          2  5          2  4         2  3       \n",
       "*y  - 4320*y *z  + 15120*y *z  - 22680*y *z  + 18900*y *z  - 9486*y *z  + 2889\n",
       "\n",
       "  2  2        2         2           8           7           6           5     \n",
       "*y *z  - 486*y *z + 27*y  - 1152*y*z  + 4608*y*z  - 8064*y*z  + 8064*y*z  - 50\n",
       "\n",
       "      4           3          2                 9        8         7         6 \n",
       "40*y*z  + 2016*y*z  - 486*y*z  + 54*y*z - 128*z  + 576*z  - 1152*z  + 1344*z  \n",
       "\n",
       "        5        4        3       2\n",
       "- 1008*z  + 504*z  - 162*z  + 27*z "
      ]
     },
     "execution_count": 176,
     "metadata": {},
     "output_type": "execute_result"
    }
   ],
   "source": [
    "simplify(pz)"
   ]
  },
  {
   "cell_type": "markdown",
   "metadata": {},
   "source": [
    "Above is $p_{z}$ (logical Z error rate after concatenation), *after* simplifying. It doesn't look particularly pleasant at all to deal with. But, we can apply our trick of $p = p_x + p_y$, $q = p_y + p_z$ and see what we get..."
   ]
  },
  {
   "cell_type": "code",
   "execution_count": 172,
   "metadata": {},
   "outputs": [],
   "source": [
    "pvar = px + py"
   ]
  },
  {
   "cell_type": "code",
   "execution_count": 173,
   "metadata": {},
   "outputs": [],
   "source": [
    "qvar = py + pz"
   ]
  },
  {
   "cell_type": "code",
   "execution_count": 174,
   "metadata": {},
   "outputs": [
    {
     "data": {
      "image/png": "[encoded data removed]",
      "text/latex": [
       "$\\displaystyle - 32 x^{9} - 288 x^{8} y + 144 x^{8} - 1152 x^{7} y^{2} + 1152 x^{7} y - 216 x^{7} - 2688 x^{6} y^{3} + 4032 x^{6} y^{2} - 1512 x^{6} y + 84 x^{6} - 4032 x^{5} y^{4} + 8064 x^{5} y^{3} - 4536 x^{5} y^{2} + 504 x^{5} y + 72 x^{5} - 4032 x^{4} y^{5} + 10080 x^{4} y^{4} - 7560 x^{4} y^{3} + 1260 x^{4} y^{2} + 360 x^{4} y - 54 x^{4} - 2688 x^{3} y^{6} + 8064 x^{3} y^{5} - 7560 x^{3} y^{4} + 1680 x^{3} y^{3} + 720 x^{3} y^{2} - 216 x^{3} y - 6 x^{3} - 1152 x^{2} y^{7} + 4032 x^{2} y^{6} - 4536 x^{2} y^{5} + 1260 x^{2} y^{4} + 720 x^{2} y^{3} - 324 x^{2} y^{2} - 18 x^{2} y + 9 x^{2} - 288 x y^{8} + 1152 x y^{7} - 1512 x y^{6} + 504 x y^{5} + 360 x y^{4} - 216 x y^{3} - 18 x y^{2} + 18 x y - 32 y^{9} + 144 y^{8} - 216 y^{7} + 84 y^{6} + 72 y^{5} - 54 y^{4} - 6 y^{3} + 9 y^{2}$"
      ],
      "text/plain": [
       "      9        8          8         7  2         7          7         6  3    \n",
       "- 32*x  - 288*x *y + 144*x  - 1152*x *y  + 1152*x *y - 216*x  - 2688*x *y  + 4\n",
       "\n",
       "     6  2         6         6         5  4         5  3         5  2        5 \n",
       "032*x *y  - 1512*x *y + 84*x  - 4032*x *y  + 8064*x *y  - 4536*x *y  + 504*x *\n",
       "\n",
       "        5         4  5          4  4         4  3         4  2        4       \n",
       "y + 72*x  - 4032*x *y  + 10080*x *y  - 7560*x *y  + 1260*x *y  + 360*x *y - 54\n",
       "\n",
       "  4         3  6         3  5         3  4         3  3        3  2        3  \n",
       "*x  - 2688*x *y  + 8064*x *y  - 7560*x *y  + 1680*x *y  + 720*x *y  - 216*x *y\n",
       "\n",
       "      3         2  7         2  6         2  5         2  4        2  3       \n",
       " - 6*x  - 1152*x *y  + 4032*x *y  - 4536*x *y  + 1260*x *y  + 720*x *y  - 324*\n",
       "\n",
       " 2  2       2        2          8           7           6          5          \n",
       "x *y  - 18*x *y + 9*x  - 288*x*y  + 1152*x*y  - 1512*x*y  + 504*x*y  + 360*x*y\n",
       "\n",
       "4          3         2                9        8        7       6       5     \n",
       "  - 216*x*y  - 18*x*y  + 18*x*y - 32*y  + 144*y  - 216*y  + 84*y  + 72*y  - 54\n",
       "\n",
       "  4      3      2\n",
       "*y  - 6*y  + 9*y "
      ]
     },
     "execution_count": 174,
     "metadata": {},
     "output_type": "execute_result"
    }
   ],
   "source": [
    "simplify(pvar)"
   ]
  },
  {
   "cell_type": "code",
   "execution_count": 175,
   "metadata": {},
   "outputs": [
    {
     "data": {
      "image/png": "[encoded data removed]",
      "text/latex": [
       "$\\displaystyle - 128 y^{9} - 1152 y^{8} z + 576 y^{8} - 4608 y^{7} z^{2} + 4608 y^{7} z - 1152 y^{7} - 10752 y^{6} z^{3} + 16128 y^{6} z^{2} - 8064 y^{6} z + 1344 y^{6} - 16128 y^{5} z^{4} + 32256 y^{5} z^{3} - 24192 y^{5} z^{2} + 8064 y^{5} z - 1008 y^{5} - 16128 y^{4} z^{5} + 40320 y^{4} z^{4} - 40320 y^{4} z^{3} + 20160 y^{4} z^{2} - 5040 y^{4} z + 504 y^{4} - 10752 y^{3} z^{6} + 32256 y^{3} z^{5} - 40320 y^{3} z^{4} + 26880 y^{3} z^{3} - 10080 y^{3} z^{2} + 2016 y^{3} z - 162 y^{3} - 4608 y^{2} z^{7} + 16128 y^{2} z^{6} - 24192 y^{2} z^{5} + 20160 y^{2} z^{4} - 10080 y^{2} z^{3} + 3024 y^{2} z^{2} - 486 y^{2} z + 27 y^{2} - 1152 y z^{8} + 4608 y z^{7} - 8064 y z^{6} + 8064 y z^{5} - 5040 y z^{4} + 2016 y z^{3} - 486 y z^{2} + 54 y z - 128 z^{9} + 576 z^{8} - 1152 z^{7} + 1344 z^{6} - 1008 z^{5} + 504 z^{4} - 162 z^{3} + 27 z^{2}$"
      ],
      "text/plain": [
       "       9         8          8         7  2         7           7          6  3\n",
       "- 128*y  - 1152*y *z + 576*y  - 4608*y *z  + 4608*y *z - 1152*y  - 10752*y *z \n",
       "\n",
       "          6  2         6           6          5  4          5  3          5  2\n",
       " + 16128*y *z  - 8064*y *z + 1344*y  - 16128*y *z  + 32256*y *z  - 24192*y *z \n",
       "\n",
       "         5           5          4  5          4  4          4  3          4  2\n",
       " + 8064*y *z - 1008*y  - 16128*y *z  + 40320*y *z  - 40320*y *z  + 20160*y *z \n",
       "\n",
       "         4          4          3  6          3  5          3  4          3  3 \n",
       " - 5040*y *z + 504*y  - 10752*y *z  + 32256*y *z  - 40320*y *z  + 26880*y *z  \n",
       "\n",
       "         3  2         3          3         2  7          2  6          2  5   \n",
       "- 10080*y *z  + 2016*y *z - 162*y  - 4608*y *z  + 16128*y *z  - 24192*y *z  + \n",
       "\n",
       "       2  4          2  3         2  2        2         2           8         \n",
       "20160*y *z  - 10080*y *z  + 3024*y *z  - 486*y *z + 27*y  - 1152*y*z  + 4608*y\n",
       "\n",
       "  7           6           5           4           3          2                \n",
       "*z  - 8064*y*z  + 8064*y*z  - 5040*y*z  + 2016*y*z  - 486*y*z  + 54*y*z - 128*\n",
       "\n",
       " 9        8         7         6         5        4        3       2\n",
       "z  + 576*z  - 1152*z  + 1344*z  - 1008*z  + 504*z  - 162*z  + 27*z "
      ]
     },
     "execution_count": 175,
     "metadata": {},
     "output_type": "execute_result"
    }
   ],
   "source": [
    "simplify(qvar)"
   ]
  },
  {
   "cell_type": "markdown",
   "metadata": {},
   "source": [
    "Wonderfully, after making these substitutions, we notice that the two relations decouple! We see no terms of $z$ in the former and no terms of $x$ is the latter. Let's make sympy factor these..."
   ]
  },
  {
   "cell_type": "code",
   "execution_count": 5,
   "metadata": {},
   "outputs": [],
   "source": [
    "p, q = symbols(\"p, q\")"
   ]
  },
  {
   "cell_type": "code",
   "execution_count": 178,
   "metadata": {},
   "outputs": [
    {
     "data": {
      "image/png": "[encoded data removed]",
      "text/latex": [
       "$\\displaystyle - \\left(x + y\\right)^{2} \\left(2 x + 2 y - 3\\right) \\left(16 x^{6} + 96 x^{5} y - 48 x^{5} + 240 x^{4} y^{2} - 240 x^{4} y + 36 x^{4} + 320 x^{3} y^{3} - 480 x^{3} y^{2} + 144 x^{3} y + 12 x^{3} + 240 x^{2} y^{4} - 480 x^{2} y^{3} + 216 x^{2} y^{2} + 36 x^{2} y - 18 x^{2} + 96 x y^{5} - 240 x y^{4} + 144 x y^{3} + 36 x y^{2} - 36 x y + 16 y^{6} - 48 y^{5} + 36 y^{4} + 12 y^{3} - 18 y^{2} + 3\\right)$"
      ],
      "text/plain": [
       "        2                 /    6       5         5        4  2        4       \n",
       "-(x + y) *(2*x + 2*y - 3)*\\16*x  + 96*x *y - 48*x  + 240*x *y  - 240*x *y + 36\n",
       "\n",
       "  4        3  3        3  2        3         3        2  4        2  3        \n",
       "*x  + 320*x *y  - 480*x *y  + 144*x *y + 12*x  + 240*x *y  - 480*x *y  + 216*x\n",
       "\n",
       "2  2       2         2         5          4          3         2              \n",
       " *y  + 36*x *y - 18*x  + 96*x*y  - 240*x*y  + 144*x*y  + 36*x*y  - 36*x*y + 16\n",
       "\n",
       "  6       5       4       3       2    \\\n",
       "*y  - 48*y  + 36*y  + 12*y  - 18*y  + 3/"
      ]
     },
     "execution_count": 178,
     "metadata": {},
     "output_type": "execute_result"
    }
   ],
   "source": [
    "factor(pvar)"
   ]
  },
  {
   "cell_type": "markdown",
   "metadata": {},
   "source": [
    "After a little algebra by hand to do the substitution of $x + y \\rightarrow p$, we have:"
   ]
  },
  {
   "cell_type": "code",
   "execution_count": 179,
   "metadata": {},
   "outputs": [
    {
     "data": {
      "image/png": "[encoded data removed]",
      "text/latex": [
       "$\\displaystyle - p^{2} \\left(2 p - 3\\right) \\left(16 p^{6} - 48 p^{5} + 36 p^{4} + 12 p^{3} - 18 p^{2} + 3\\right)$"
      ],
      "text/plain": [
       "  2           /    6       5       4       3       2    \\\n",
       "-p *(2*p - 3)*\\16*p  - 48*p  + 36*p  + 12*p  - 18*p  + 3/"
      ]
     },
     "execution_count": 179,
     "metadata": {},
     "output_type": "execute_result"
    }
   ],
   "source": [
    "newp = -p**2 * (2*p - 3) * ( 16 * p**6 -48 * p**5 + 36 * p**4 + 12 * p**3 - 18 * p**2 + 3)\n",
    "newp"
   ]
  },
  {
   "cell_type": "code",
   "execution_count": 180,
   "metadata": {},
   "outputs": [
    {
     "data": {
      "image/png": "[encoded data removed]",
      "text/latex": [
       "$\\displaystyle - 32 p^{9} + 144 p^{8} - 216 p^{7} + 84 p^{6} + 72 p^{5} - 54 p^{4} - 6 p^{3} + 9 p^{2}$"
      ],
      "text/plain": [
       "      9        8        7       6       5       4      3      2\n",
       "- 32*p  + 144*p  - 216*p  + 84*p  + 72*p  - 54*p  - 6*p  + 9*p "
      ]
     },
     "execution_count": 180,
     "metadata": {},
     "output_type": "execute_result"
    }
   ],
   "source": [
    "expand(newp)"
   ]
  },
  {
   "cell_type": "markdown",
   "metadata": {},
   "source": [
    "Next looking at $q$:"
   ]
  },
  {
   "cell_type": "code",
   "execution_count": 181,
   "metadata": {},
   "outputs": [
    {
     "data": {
      "image/png": "[encoded data removed]",
      "text/latex": [
       "$\\displaystyle - \\left(y + z\\right)^{2} \\left(4 y^{2} + 8 y z - 6 y + 4 z^{2} - 6 z + 3\\right)^{2} \\left(8 y^{3} + 24 y^{2} z - 12 y^{2} + 24 y z^{2} - 24 y z + 6 y + 8 z^{3} - 12 z^{2} + 6 z - 3\\right)$"
      ],
      "text/plain": [
       "                                               2                              \n",
       "        2 /   2                    2          \\  /   3       2         2      \n",
       "-(y + z) *\\4*y  + 8*y*z - 6*y + 4*z  - 6*z + 3/ *\\8*y  + 24*y *z - 12*y  + 24*\n",
       "\n",
       "                                             \n",
       "   2                     3       2          \\\n",
       "y*z  - 24*y*z + 6*y + 8*z  - 12*z  + 6*z - 3/"
      ]
     },
     "execution_count": 181,
     "metadata": {},
     "output_type": "execute_result"
    }
   ],
   "source": [
    "factor(qvar)"
   ]
  },
  {
   "cell_type": "markdown",
   "metadata": {},
   "source": [
    "After a little algebra by hand to do the substitution of $y + z \\rightarrow q$, we have:"
   ]
  },
  {
   "cell_type": "code",
   "execution_count": 6,
   "metadata": {},
   "outputs": [
    {
     "data": {
      "text/latex": [
       "$\\displaystyle - q^{2} \\left(4 q^{2} - 6 q + 3\\right)^{2} \\left(8 q^{3} - 12 q^{2} + 6 q - 3\\right)$"
      ],
      "text/plain": [
       "-q**2*(4*q**2 - 6*q + 3)**2*(8*q**3 - 12*q**2 + 6*q - 3)"
      ]
     },
     "execution_count": 6,
     "metadata": {},
     "output_type": "execute_result"
    }
   ],
   "source": [
    "newq = -q**2 * (4*q**2 - 6 * q + 3)**2 * (8 * q**3 - 12*q**2 + 6*q - 3)\n",
    "newq"
   ]
  },
  {
   "cell_type": "code",
   "execution_count": 7,
   "metadata": {},
   "outputs": [
    {
     "data": {
      "text/latex": [
       "$\\displaystyle - 128 q^{9} + 576 q^{8} - 1152 q^{7} + 1344 q^{6} - 1008 q^{5} + 504 q^{4} - 162 q^{3} + 27 q^{2}$"
      ],
      "text/plain": [
       "-128*q**9 + 576*q**8 - 1152*q**7 + 1344*q**6 - 1008*q**5 + 504*q**4 - 162*q**3 + 27*q**2"
      ]
     },
     "execution_count": 7,
     "metadata": {},
     "output_type": "execute_result"
    }
   ],
   "source": [
    "expand(newq)"
   ]
  },
  {
   "cell_type": "markdown",
   "metadata": {},
   "source": [
    "We therefore have obtained the decoupled recursion relations:\n",
    "$$p_x + p_y = p \\mapsto -32p^9 + 144p^8 - 216p^7 + 84p^6 + 72p^5 - 54p^4 - 6p^3 + 9p^2$$\n",
    "$$p_y + p_z = q \\mapsto -128q^9 + 576q^8 - 1152q^7 + 1344q^6 - 1008q^5 + 504q^4 - 162q^3 + 27q^2$$"
   ]
  },
  {
   "cell_type": "markdown",
   "metadata": {},
   "source": [
    "To solve for the concatenation threshold for $p, q$, we solve the equation $p_{n+1} = p_n$, $q_{n+1} = q_n$ to get that $p_t = 0.13514$, $q_t = 0.04985$. Taking the lower (tighter) bound of the two, we have that $q_t = 0.04985$, hence $\\frac{p}{3} + \\frac{p}{3} = p_y + p_z = q_t = 0.04985$ which gives a final threshold of $p_{threshold} = 0.074$; in shockingly good agreement with the numerical simulation!"
   ]
  },
  {
   "cell_type": "markdown",
   "metadata": {},
   "source": [
    "Let's try to find an analytical expression. First, we might find it useful to make some plots."
   ]
  },
  {
   "cell_type": "code",
   "execution_count": 9,
   "metadata": {},
   "outputs": [],
   "source": [
    "def pconcat(p):\n",
    "    return -32*p**9 + 144*p**8 - 216*p**7 + 84*p**6 + 72*p**5 - 54*p**4 - 6*p**3 + 9*p**2\n",
    "\n",
    "def qconcat(q):\n",
    "    return -128*q**9 + 576*q**8 - 1152*q**7 + 1344*q**6 - 1008*q**5 + 504*q**4 - 162*q**3 + 27*q**2\n"
   ]
  },
  {
   "cell_type": "code",
   "execution_count": 10,
   "metadata": {},
   "outputs": [
    {
     "data": {
      "image/png": "[encoded data removed]",
      "text/plain": [
       "<Figure size 432x288 with 1 Axes>"
      ]
     },
     "metadata": {
      "needs_background": "light"
     },
     "output_type": "display_data"
    }
   ],
   "source": [
    "xaxis = np.linspace(0, 1, 1001)\n",
    "plt.plot(xaxis, pconcat(xaxis), label = \"Shor Code\")\n",
    "plt.plot(xaxis, xaxis, label = \"No correction\")\n",
    "plt.legend(loc = \"best\")\n",
    "plt.title(\"Logical Error rate under concatenation vs. physical error rate \\n for p = p_x + p_y\")\n",
    "plt.show()"
   ]
  },
  {
   "cell_type": "code",
   "execution_count": 12,
   "metadata": {},
   "outputs": [
    {
     "data": {
      "image/png": "[encoded data removed]",
      "text/plain": [
       "<Figure size 432x288 with 1 Axes>"
      ]
     },
     "metadata": {
      "needs_background": "light"
     },
     "output_type": "display_data"
    }
   ],
   "source": [
    "xaxis = np.linspace(0, 1, 1001)\n",
    "plt.plot(xaxis, qconcat(xaxis), label = \"Shor Code\")\n",
    "plt.plot(xaxis, xaxis, label = \"No correction\")\n",
    "plt.legend(loc = \"best\")\n",
    "plt.title(\"Logical Error rate under concatenation vs. physical error rate \\n for q = p_y + p_z\")\n",
    "plt.savefig(\"qplot.pdf\")\n",
    "plt.show()"
   ]
  },
  {
   "cell_type": "markdown",
   "metadata": {},
   "source": [
    "Let us use this plot to try to obtain an analytical answer to $q_{n+1} = q_n$ (the concatenation threshold) that we solved numerically last time (we can ignore the $p_{n+1} = p_n$ relation as we already determined that the $q$s provide the tighter bound (and hence the overall threshold that we solve for). \n",
    "\n",
    "From the above plot, we can already see three roots of the equation:\n",
    "$$-128q^9 + 576q^8 - 1152q^7 + 1344q^6 - 1008q^5 + 504q^4 - 162q^3 + 27q^2 - q = 0$$\n",
    "\n",
    "Namely, $q = 0, q = 0.5, q = 1$. Let us factor these out and see if our expression simplifies in any meaningful way. Note that we also see that there are roots at $q', 1 - q'$ for some yet undetermined $q' \\in (0, 1)$. "
   ]
  },
  {
   "cell_type": "markdown",
   "metadata": {},
   "source": [
    "$$q(-128q^8 + 576q^7 - 1152q^6 + 1344q^5 - 1008q^4 + 504q^3 - 162q^2 + 27q - 1) = 0$$"
   ]
  },
  {
   "cell_type": "markdown",
   "metadata": {},
   "source": [
    "The algebra gets a bit tedious, so I pass it to sympy."
   ]
  },
  {
   "cell_type": "code",
   "execution_count": 11,
   "metadata": {},
   "outputs": [
    {
     "data": {
      "text/latex": [
       "$\\displaystyle - q^{2} \\left(4 q^{2} - 6 q + 3\\right)^{2} \\left(8 q^{3} - 12 q^{2} + 6 q - 3\\right) - q$"
      ],
      "text/plain": [
       "-q**2*(4*q**2 - 6*q + 3)**2*(8*q**3 - 12*q**2 + 6*q - 3) - q"
      ]
     },
     "execution_count": 11,
     "metadata": {},
     "output_type": "execute_result"
    }
   ],
   "source": [
    "newq = -q**2 * (4*q**2 - 6 * q + 3)**2 * (8 * q**3 - 12*q**2 + 6*q - 3) - q\n",
    "newq"
   ]
  },
  {
   "cell_type": "code",
   "execution_count": 12,
   "metadata": {},
   "outputs": [
    {
     "data": {
      "text/latex": [
       "$\\displaystyle - q \\left(q - 1\\right) \\left(2 q - 1\\right) \\left(64 q^{6} - 192 q^{5} + 256 q^{4} - 192 q^{3} + 88 q^{2} - 24 q + 1\\right)$"
      ],
      "text/plain": [
       "-q*(q - 1)*(2*q - 1)*(64*q**6 - 192*q**5 + 256*q**4 - 192*q**3 + 88*q**2 - 24*q + 1)"
      ]
     },
     "execution_count": 12,
     "metadata": {},
     "output_type": "execute_result"
    }
   ],
   "source": [
    "factor(newq)"
   ]
  },
  {
   "cell_type": "markdown",
   "metadata": {},
   "source": [
    "We have now factored out the roots at $q=0, q = 1, q = 1/2$. We are left with a sextic polynomial, which by inspection (of the plot) has roots $q', (1-q') \\in (0, 1)$. The rest of the roots are imaginary, as past $q = 0$ and $q = 1$, the plots of $q_{n+1} = q$ and $q = q$ quickly diverge:"
   ]
  },
  {
   "cell_type": "code",
   "execution_count": 16,
   "metadata": {},
   "outputs": [
    {
     "data": {
      "image/png": "[encoded data removed]",
      "text/plain": [
       "<Figure size 432x288 with 1 Axes>"
      ]
     },
     "metadata": {
      "needs_background": "light"
     },
     "output_type": "display_data"
    }
   ],
   "source": [
    "xaxis = np.linspace(-1, 2, 1001)\n",
    "plt.plot(xaxis, qconcat(xaxis), label = \"Shor Code\")\n",
    "plt.plot(xaxis, xaxis, label = \"No correction\")\n",
    "plt.legend(loc = \"best\")\n",
    "plt.title(\"Logical Error rate under concatenation vs. physical error rate \\n for q = p_y + p_z\")\n",
    "plt.show()"
   ]
  },
  {
   "cell_type": "code",
   "execution_count": 17,
   "metadata": {},
   "outputs": [],
   "source": [
    "partq = 64*q**6-192*q**5+256*q**4-192*q**3+88*q**2-24*q+1"
   ]
  },
  {
   "cell_type": "code",
   "execution_count": 21,
   "metadata": {},
   "outputs": [
    {
     "data": {
      "text/latex": [
       "$\\displaystyle 64 q^{6} - 192 q^{5} + 256 q^{4} - 192 q^{3} + 88 q^{2} - 24 q + 1$"
      ],
      "text/plain": [
       "64*q**6 - 192*q**5 + 256*q**4 - 192*q**3 + 88*q**2 - 24*q + 1"
      ]
     },
     "execution_count": 21,
     "metadata": {},
     "output_type": "execute_result"
    }
   ],
   "source": [
    "partq"
   ]
  },
  {
   "cell_type": "markdown",
   "metadata": {},
   "source": [
    "Of course, not all degree-6 polynomials are solvable (Galois has shown that in general, a closed form expression for the roots of a degree $n$ polynomial only exists for $n \\leq 4$). However, if the polynomial has a special form, there are methods that one can solve for the roots; \"General Formulas for Solving Solvable Sextic Equations\" by Hagedorn gives methods to check if sextic polynomials are of solvable type and if so, the analytic expressions. might be also worth looking into the sympy solver and see how it actually solved it. https://github.com/sympy/sympy/blob/46e00feeef5204d896a2fbec65390bd4145c3902/sympy/solvers/solvers.py#L379-L1278"
   ]
  },
  {
   "cell_type": "markdown",
   "metadata": {},
   "source": [
    "After discussion with Robert today, we make the observation that we can actually be quite a bit more clever. Noticing the symmetry of the polynomial $q_{n+1}$ about 0.5, we can shift the polynomial around this point, which will simplify our root finding significantly:"
   ]
  },
  {
   "cell_type": "code",
   "execution_count": 19,
   "metadata": {},
   "outputs": [],
   "source": [
    "oldq = -q**2 * (4*q**2 - 6 * q + 3)**2 * (8 * q**3 - 12*q**2 + 6*q - 3) - q"
   ]
  },
  {
   "cell_type": "code",
   "execution_count": 20,
   "metadata": {},
   "outputs": [
    {
     "data": {
      "text/latex": [
       "$\\displaystyle - 128 q^{9} + 576 q^{8} - 1152 q^{7} + 1344 q^{6} - 1008 q^{5} + 504 q^{4} - 162 q^{3} + 27 q^{2} - q$"
      ],
      "text/plain": [
       "-128*q**9 + 576*q**8 - 1152*q**7 + 1344*q**6 - 1008*q**5 + 504*q**4 - 162*q**3 + 27*q**2 - q"
      ]
     },
     "execution_count": 20,
     "metadata": {},
     "output_type": "execute_result"
    }
   ],
   "source": [
    "expand(oldq)"
   ]
  },
  {
   "cell_type": "markdown",
   "metadata": {},
   "source": [
    "Making the substiution $q - 0.5 = w$, we get:"
   ]
  },
  {
   "cell_type": "code",
   "execution_count": 26,
   "metadata": {},
   "outputs": [],
   "source": [
    "w = symbols('w')"
   ]
  },
  {
   "cell_type": "code",
   "execution_count": 30,
   "metadata": {},
   "outputs": [],
   "source": [
    "wshifted = oldq.subs(q, w+0.5)"
   ]
  },
  {
   "cell_type": "code",
   "execution_count": 31,
   "metadata": {},
   "outputs": [
    {
     "data": {
      "text/latex": [
       "$\\displaystyle - 128 w^{9} + 6.0 w^{3} - 1.0 w$"
      ],
      "text/plain": [
       "-128*w**9 + 6.0*w**3 - 1.0*w"
      ]
     },
     "execution_count": 31,
     "metadata": {},
     "output_type": "execute_result"
    }
   ],
   "source": [
    "expand(wshifted)"
   ]
  },
  {
   "cell_type": "code",
   "execution_count": 34,
   "metadata": {},
   "outputs": [],
   "source": [
    "wshifted = -128*w**9 + 6*w**3 - w"
   ]
  },
  {
   "cell_type": "code",
   "execution_count": 35,
   "metadata": {},
   "outputs": [
    {
     "data": {
      "text/latex": [
       "$\\displaystyle - 128 w^{9} + 6 w^{3} - w$"
      ],
      "text/plain": [
       "-128*w**9 + 6*w**3 - w"
      ]
     },
     "execution_count": 35,
     "metadata": {},
     "output_type": "execute_result"
    }
   ],
   "source": [
    "wshifted"
   ]
  },
  {
   "cell_type": "markdown",
   "metadata": {},
   "source": [
    "Now of course, we can factor this expression; we will have a root at $w = 0$ (i.e. the root $q = 0.5$) and roots at $w = \\pm 0.5$ (i.e. the roots $q = 0, 1$)."
   ]
  },
  {
   "cell_type": "code",
   "execution_count": 36,
   "metadata": {},
   "outputs": [
    {
     "data": {
      "text/latex": [
       "$\\displaystyle - w \\left(2 w - 1\\right) \\left(2 w + 1\\right) \\left(32 w^{6} + 8 w^{4} + 2 w^{2} - 1\\right)$"
      ],
      "text/plain": [
       "-w*(2*w - 1)*(2*w + 1)*(32*w**6 + 8*w**4 + 2*w**2 - 1)"
      ]
     },
     "execution_count": 36,
     "metadata": {},
     "output_type": "execute_result"
    }
   ],
   "source": [
    "factor(wshifted)"
   ]
  },
  {
   "cell_type": "markdown",
   "metadata": {},
   "source": [
    "At first, it seems like we haven't gained anything, and we still have a degree 6 polynomial. However, this *is* actually a significant change; notice that due to this clever substitution, the degree-6 polynomial can actually be viewed as a degree 3 polynomial in $w^2$. Letting $x = w^2$, we have:"
   ]
  },
  {
   "cell_type": "code",
   "execution_count": 37,
   "metadata": {},
   "outputs": [],
   "source": [
    "deg6w = 32*w**6 + 8*w**4 + 2*w**2 - 1"
   ]
  },
  {
   "cell_type": "code",
   "execution_count": 39,
   "metadata": {},
   "outputs": [],
   "source": [
    "x = symbols('x')"
   ]
  },
  {
   "cell_type": "code",
   "execution_count": 40,
   "metadata": {},
   "outputs": [],
   "source": [
    "deg3x = deg6w.subs(w, sqrt(x))"
   ]
  },
  {
   "cell_type": "code",
   "execution_count": 41,
   "metadata": {},
   "outputs": [
    {
     "data": {
      "text/latex": [
       "$\\displaystyle 32 x^{3} + 8 x^{2} + 2 x - 1$"
      ],
      "text/plain": [
       "32*x**3 + 8*x**2 + 2*x - 1"
      ]
     },
     "execution_count": 41,
     "metadata": {},
     "output_type": "execute_result"
    }
   ],
   "source": [
    "deg3x"
   ]
  },
  {
   "cell_type": "markdown",
   "metadata": {},
   "source": [
    "We can now use the cubic formula to solve for the roots of $32x^3 + 8x^2 + 2x - 1 = 0$. We let sympy do this for us here, but in principle any calculator (or human) could do this (https://en.wikipedia.org/wiki/Cubic_equation):"
   ]
  },
  {
   "cell_type": "code",
   "execution_count": 42,
   "metadata": {},
   "outputs": [
    {
     "data": {
      "text/plain": [
       "[-1/12 + (-1/2 - sqrt(3)*I/2)*(61/3456 + sqrt(417)/1152)**(1/3) - 1/(72*(-1/2 - sqrt(3)*I/2)*(61/3456 + sqrt(417)/1152)**(1/3)),\n",
       " -1/12 - 1/(72*(-1/2 + sqrt(3)*I/2)*(61/3456 + sqrt(417)/1152)**(1/3)) + (-1/2 + sqrt(3)*I/2)*(61/3456 + sqrt(417)/1152)**(1/3),\n",
       " -1/12 - 1/(72*(61/3456 + sqrt(417)/1152)**(1/3)) + (61/3456 + sqrt(417)/1152)**(1/3)]"
      ]
     },
     "execution_count": 42,
     "metadata": {},
     "output_type": "execute_result"
    }
   ],
   "source": [
    "solve(deg3x)"
   ]
  },
  {
   "cell_type": "markdown",
   "metadata": {},
   "source": [
    "The third solution is real and hence the only one of our interest. We can then take the square root of this solution to obtain the two (plus/minus) roots for $w$, as $w = x^2$. Taking the negative one of these and adding 0.5, we hence obtain the smallest nonzero root of $q$, which is exactly what we were solving for."
   ]
  },
  {
   "cell_type": "code",
   "execution_count": 47,
   "metadata": {},
   "outputs": [
    {
     "name": "stdout",
     "output_type": "stream",
     "text": [
      "0.04985\n"
     ]
    }
   ],
   "source": [
    "sol = -sqrt(-1/12 - 1/(72*(61/3456 + sqrt(417)/1152)**(1/3)) + (61/3456 + sqrt(417)/1152)**(1/3))\n",
    "sol += 0.5\n",
    "print(round(sol, 5))"
   ]
  },
  {
   "cell_type": "markdown",
   "metadata": {},
   "source": [
    "So \n",
    "$$\n",
    "-\\sqrt{-\\frac{1}{12} - \\frac{1}{72*(61/3456 + \\sqrt{417}/1152)^{1/3}} + (61/3456 + \\sqrt{417}/1152)^{1/3}} + \\frac{1}{2}\n",
    "$$\n",
    "is the analytical expression for our threshold for $q$ (we can see it agrees numerically with our prior calculation). Multiplying this by 3/2 yields the analytical expression for the threshold of the physical error rate $p$, as the question asks. "
   ]
  },
  {
   "cell_type": "markdown",
   "metadata": {},
   "source": []
  }
 ],
 "metadata": {
  "kernelspec": {
   "display_name": "Python 3",
   "language": "python",
   "name": "python3"
  },
  "language_info": {
   "codemirror_mode": {
    "name": "ipython",
    "version": 3
   },
   "file_extension": ".py",
   "mimetype": "text/x-python",
   "name": "python",
   "nbconvert_exporter": "python",
   "pygments_lexer": "ipython3",
   "version": "3.8.10"
  }
 },
 "nbformat": 4,
 "nbformat_minor": 4
}
