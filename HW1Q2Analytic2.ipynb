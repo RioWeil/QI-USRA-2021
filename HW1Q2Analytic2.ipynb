{
 "cells": [
  {
   "cell_type": "code",
   "execution_count": 1,
   "id": "5cd38819-aa60-4b81-b887-bf27a7533a76",
   "metadata": {},
   "outputs": [],
   "source": [
    "# HW1Q3.ipynb\n",
    "# Date: 07/30/2021\n",
    "# Author: Rio Weil\n",
    "# Functionality: Calculates the concatenation threshold for the 9-qubit Shor Code under independent depolarizing Pauli noise analytically.\n",
    "# Note: The errors under concatenation are found by composing the errors from the 3-qubit bit flip and phase flip codes (efficient)."
   ]
  },
  {
   "cell_type": "code",
   "execution_count": 2,
   "id": "ff53b7bb-fffb-408e-b47f-e87265d79f2d",
   "metadata": {},
   "outputs": [],
   "source": [
    "import numpy as np\n",
    "import matplotlib.pyplot as plt\n",
    "from sympy import *"
   ]
  },
  {
   "cell_type": "markdown",
   "id": "455e892b-ce17-4cdb-9d8b-c175dc83aa16",
   "metadata": {},
   "source": [
    "Although a complete solution has already been found, we wish to find a more efficient solution; one that could be performed on a programming calculator (say, with 64kB of memory only). Here, we offer a much more efficient solution. We start by (as before) defining some functions to check the error type of a given length 3 Pauli operator (under the bit flip code):"
   ]
  },
  {
   "cell_type": "code",
   "execution_count": 3,
   "id": "7021b422-c788-4a86-ae59-54c152fd03c5",
   "metadata": {},
   "outputs": [],
   "source": [
    "def checkx(q1, q2, q3):\n",
    "    if q1 == \"X\" or q1 == \"Y\":\n",
    "        x1 = 1\n",
    "    else:\n",
    "        x1 = 0\n",
    "    if q2 == \"X\" or q2 == \"Y\":\n",
    "        x2 = 1\n",
    "    else:\n",
    "        x2 = 0\n",
    "    if q3 == \"X\" or q3 == \"Y\":\n",
    "        x3 = 1\n",
    "    else:\n",
    "        x3 = 0\n",
    "    if (x1 + x2 + x3) > 1:\n",
    "        return True\n",
    "    else:\n",
    "        return False\n",
    "\n",
    "def checkz(q1, q2, q3):\n",
    "    if q1 == \"Z\" or q1 == \"Y\":\n",
    "        z1 = 1\n",
    "    else:\n",
    "        z1 = 0\n",
    "    if q2 == \"Z\" or q2 == \"Y\":\n",
    "        z2 = 1\n",
    "    else:\n",
    "        z2 = 0\n",
    "    if q3 == \"Z\" or q3 == \"Y\":\n",
    "        z3 = 1\n",
    "    else:\n",
    "        z3 = 0\n",
    "    return ((z1 + z2 + z3) % 2 == 1)"
   ]
  },
  {
   "cell_type": "markdown",
   "id": "f5d05873-5671-4e3c-91e5-868ab6e52789",
   "metadata": {},
   "source": [
    "Now for where we have our exponential time save; instead of checking and categorizing $4^9$ cases, we only check 64; we iterate through all possible length $3$ Pauli operators, and check if under the bit flip code we get an $X$, $Y$, or $Z$ error (or no error at all)."
   ]
  },
  {
   "cell_type": "code",
   "execution_count": 4,
   "id": "c555ebe8-5b79-4a9f-860f-7cd8cd23b244",
   "metadata": {},
   "outputs": [],
   "source": [
    "errors = [\"I\", \"X\", \"Y\", \"Z\"]\n",
    "pxlist = []\n",
    "pylist = []\n",
    "pzlist = []\n",
    "\n",
    "for a in errors:\n",
    "    for b in errors:\n",
    "        for c in errors:\n",
    "            error = a + b + c\n",
    "            xerr = checkx(a, b, c)\n",
    "            zerr = checkz(a, b, c)\n",
    "            if xerr:\n",
    "                if zerr:\n",
    "                    pylist.append(error)\n",
    "                else:\n",
    "                    pxlist.append(error)\n",
    "            else:\n",
    "                if zerr:\n",
    "                    pzlist.append(error)         "
   ]
  },
  {
   "cell_type": "markdown",
   "id": "6a4079ee-8c3f-4eb5-a3ba-4db4715426aa",
   "metadata": {},
   "source": [
    "As before, we use a dictionary to group similar error types together."
   ]
  },
  {
   "cell_type": "code",
   "execution_count": 5,
   "id": "018e5129-4e12-4d1b-b036-1000a435ee13",
   "metadata": {},
   "outputs": [],
   "source": [
    "def create_anagrams_list(wordlist):\n",
    "    sortedlist = []\n",
    "    for i in range(len(wordlist)):\n",
    "        wordlist[i] = sorted(wordlist[i])\n",
    "    while (len(wordlist) != 0):\n",
    "        word = wordlist[0]\n",
    "        count = 0\n",
    "        for i in range(len(wordlist)):\n",
    "            if (word == wordlist[i]):\n",
    "                count += 1\n",
    "        for i in range(count):\n",
    "            wordlist.remove(word)\n",
    "        sortedlist.append([word, count])   \n",
    "    return sortedlist"
   ]
  },
  {
   "cell_type": "code",
   "execution_count": 6,
   "id": "f70f1d03-f9d7-4b26-8504-4e77b24e510b",
   "metadata": {},
   "outputs": [],
   "source": [
    "def process_list(almost_done):\n",
    "    for i in range(len(almost_done)):\n",
    "        word = \"\"\n",
    "        for j in range(3):\n",
    "            word += almost_done[i][0][j]\n",
    "        almost_done[i] = [word, almost_done[i][1]]"
   ]
  },
  {
   "cell_type": "code",
   "execution_count": 7,
   "id": "bdcef205-9c58-4df3-a949-bc4c868bc74e",
   "metadata": {},
   "outputs": [],
   "source": [
    "sorted_pxlist = create_anagrams_list(pxlist)\n",
    "sorted_pylist = create_anagrams_list(pylist)\n",
    "sorted_pzlist = create_anagrams_list(pzlist)"
   ]
  },
  {
   "cell_type": "code",
   "execution_count": 8,
   "id": "ee123fd3-b617-4102-96aa-d612ac669d74",
   "metadata": {},
   "outputs": [],
   "source": [
    "process_list(sorted_pxlist)\n",
    "process_list(sorted_pylist)\n",
    "process_list(sorted_pzlist)"
   ]
  },
  {
   "cell_type": "markdown",
   "id": "b3c9fd94-b9b3-412d-a3d7-f395b3130257",
   "metadata": {},
   "source": [
    "We now have the error type and multiplicities for each of the error types."
   ]
  },
  {
   "cell_type": "code",
   "execution_count": 9,
   "id": "b4d81969-e891-413d-96ef-0c054b7673ed",
   "metadata": {},
   "outputs": [
    {
     "name": "stdout",
     "output_type": "stream",
     "text": [
      "[['IXX', 3], ['IYY', 3], ['XXX', 1], ['XYY', 3], ['XYZ', 6]]\n",
      "[['IXY', 6], ['XXY', 3], ['XXZ', 3], ['YYY', 1], ['YYZ', 3]]\n",
      "[['IIY', 3], ['IIZ', 3], ['IXZ', 6], ['YZZ', 3], ['ZZZ', 1]]\n"
     ]
    }
   ],
   "source": [
    "print(sorted_pxlist)\n",
    "print(sorted_pylist)\n",
    "print(sorted_pzlist)"
   ]
  },
  {
   "cell_type": "markdown",
   "id": "b7efc4a6-15b4-48f2-a147-eb4174eb1b78",
   "metadata": {},
   "source": [
    "Now, we move to the symbolic computing section. Here we let $p_x = x$, $p_y = y$, $p_z = z$."
   ]
  },
  {
   "cell_type": "code",
   "execution_count": 10,
   "id": "4dee81e9-e74b-4859-92b3-40c94e5c9754",
   "metadata": {},
   "outputs": [],
   "source": [
    "x, y, z = symbols(\"x y z\")"
   ]
  },
  {
   "cell_type": "markdown",
   "id": "5b0b2f4c-2f67-47da-b968-a061c0cb1cc5",
   "metadata": {},
   "source": [
    "The below function converts the above error type/multiplicity list into an expression for $p_x', p_y', p_z'$ under the bit flip code (i.e. what does each type of error look like after one round of concatenation?)"
   ]
  },
  {
   "cell_type": "code",
   "execution_count": 11,
   "id": "2ff0d70d-6ee1-4cc1-bbec-4c2ea109a721",
   "metadata": {},
   "outputs": [],
   "source": [
    "def make_symbolic(sortedlist):\n",
    "    finalexpr = 0\n",
    "    for i in range(len(sortedlist)):\n",
    "        string = sortedlist[i][0]\n",
    "        expr = sortedlist[i][1]\n",
    "        for j in range(len(string)):\n",
    "            if string[j] == \"X\":\n",
    "                expr *= x\n",
    "            elif string[j] == \"Y\":\n",
    "                expr *= y\n",
    "            elif string[j] == \"Z\":\n",
    "                expr *= z\n",
    "            else:\n",
    "                expr *= (1 - x - y - z)\n",
    "        finalexpr += expr\n",
    "    return finalexpr"
   ]
  },
  {
   "cell_type": "code",
   "execution_count": 14,
   "id": "8332112a-01eb-43ba-838d-32ef9019e87a",
   "metadata": {},
   "outputs": [],
   "source": [
    "px_bf = make_symbolic(sorted_pxlist)\n",
    "py_bf = make_symbolic(sorted_pylist)\n",
    "pz_bf = make_symbolic(sorted_pzlist)"
   ]
  },
  {
   "cell_type": "markdown",
   "id": "c58062db-a038-4a2e-8a20-e47ed340ad5d",
   "metadata": {},
   "source": [
    "After this processing, we obtain $p_x', p_y', p_z'$ for the bit flip code to be:"
   ]
  },
  {
   "cell_type": "code",
   "execution_count": 15,
   "id": "7b5170ff-254a-4ca4-a2d1-39dbc0915d46",
   "metadata": {},
   "outputs": [
    {
     "data": {
      "text/latex": [
       "$\\displaystyle x^{3} + 3 x^{2} \\left(- x - y - z + 1\\right) + 3 x y^{2} + 6 x y z + 3 y^{2} \\left(- x - y - z + 1\\right)$"
      ],
      "text/plain": [
       "x**3 + 3*x**2*(-x - y - z + 1) + 3*x*y**2 + 6*x*y*z + 3*y**2*(-x - y - z + 1)"
      ]
     },
     "execution_count": 15,
     "metadata": {},
     "output_type": "execute_result"
    }
   ],
   "source": [
    "simplify(px_bf)"
   ]
  },
  {
   "cell_type": "code",
   "execution_count": 16,
   "id": "33b564e6-4121-4ee5-92d2-a98b55aaa3d6",
   "metadata": {},
   "outputs": [
    {
     "data": {
      "text/latex": [
       "$\\displaystyle 3 x^{2} y + 3 x^{2} z - 6 x y \\left(x + y + z - 1\\right) + y^{3} + 3 y^{2} z$"
      ],
      "text/plain": [
       "3*x**2*y + 3*x**2*z - 6*x*y*(x + y + z - 1) + y**3 + 3*y**2*z"
      ]
     },
     "execution_count": 16,
     "metadata": {},
     "output_type": "execute_result"
    }
   ],
   "source": [
    "simplify(py_bf)"
   ]
  },
  {
   "cell_type": "code",
   "execution_count": 17,
   "id": "9582d181-fa7d-4a7b-8cbc-4c2821f94534",
   "metadata": {},
   "outputs": [
    {
     "data": {
      "text/latex": [
       "$\\displaystyle - 6 x z \\left(x + y + z - 1\\right) + 3 y z^{2} + 3 y \\left(x + y + z - 1\\right)^{2} + z^{3} + 3 z \\left(x + y + z - 1\\right)^{2}$"
      ],
      "text/plain": [
       "-6*x*z*(x + y + z - 1) + 3*y*z**2 + 3*y*(x + y + z - 1)**2 + z**3 + 3*z*(x + y + z - 1)**2"
      ]
     },
     "execution_count": 17,
     "metadata": {},
     "output_type": "execute_result"
    }
   ],
   "source": [
    "simplify(pz_bf)"
   ]
  },
  {
   "cell_type": "markdown",
   "id": "e549a333-7186-4952-a5c8-e51dd9707f8b",
   "metadata": {},
   "source": [
    "Now, the result of applying the bit flip and phase flip codes <b>will be the same up to choice of symbols, by the symmetry of the codes</b>. This yields another large computational timesave. To obtain $p_{ypf}$, simply switch $x$ and $z$ in $p_{ybf}$. For $p_{xpf}$, switch $x$ and $z$ in $p_{zbf}$. Finally, for $p_{zbf}$, switch $x$ and $z$ in $p_{xbf}$."
   ]
  },
  {
   "cell_type": "code",
   "execution_count": 18,
   "id": "d94ec915-f5b7-4ae5-b1f2-008ee79c608a",
   "metadata": {},
   "outputs": [],
   "source": [
    "t = symbols(\"t\") # Temporary variable for substitution"
   ]
  },
  {
   "cell_type": "code",
   "execution_count": 19,
   "id": "46b594ef-4cea-4417-aa51-77f753161208",
   "metadata": {},
   "outputs": [],
   "source": [
    "px_pf = pz_bf.subs([(x, t), (z, x)]).subs(t, z)\n",
    "py_pf = py_bf.subs([(x, t), (z, x)]).subs(t, z)\n",
    "pz_pf = px_bf.subs([(x, t), (z, x)]).subs(t, z)"
   ]
  },
  {
   "cell_type": "markdown",
   "id": "1cb1fb56-cf88-488d-b766-bdad946f3c10",
   "metadata": {},
   "source": [
    "After this insightful substitution, we obtain $p_x', p_y', p_z'$ for the phase flip code to be:"
   ]
  },
  {
   "cell_type": "code",
   "execution_count": 20,
   "id": "98841660-5e1c-442b-acb5-553017716cad",
   "metadata": {},
   "outputs": [
    {
     "data": {
      "text/latex": [
       "$\\displaystyle x^{3} + 3 x^{2} y - 6 x z \\left(x + y + z - 1\\right) + 3 x \\left(x + y + z - 1\\right)^{2} + 3 y \\left(x + y + z - 1\\right)^{2}$"
      ],
      "text/plain": [
       "x**3 + 3*x**2*y - 6*x*z*(x + y + z - 1) + 3*x*(x + y + z - 1)**2 + 3*y*(x + y + z - 1)**2"
      ]
     },
     "execution_count": 20,
     "metadata": {},
     "output_type": "execute_result"
    }
   ],
   "source": [
    "simplify(px_pf)"
   ]
  },
  {
   "cell_type": "code",
   "execution_count": 21,
   "id": "c6afdbdb-ccae-4bca-9b7f-d0339e8fc058",
   "metadata": {},
   "outputs": [
    {
     "data": {
      "text/latex": [
       "$\\displaystyle 3 x y^{2} + 3 x z^{2} + y^{3} + 3 y z^{2} - 6 y z \\left(x + y + z - 1\\right)$"
      ],
      "text/plain": [
       "3*x*y**2 + 3*x*z**2 + y**3 + 3*y*z**2 - 6*y*z*(x + y + z - 1)"
      ]
     },
     "execution_count": 21,
     "metadata": {},
     "output_type": "execute_result"
    }
   ],
   "source": [
    "simplify(py_pf)"
   ]
  },
  {
   "cell_type": "code",
   "execution_count": 22,
   "id": "ea522f6c-6fb6-4433-a97f-802f1ef2e4c2",
   "metadata": {},
   "outputs": [
    {
     "data": {
      "text/latex": [
       "$\\displaystyle 6 x y z + 3 y^{2} z + 3 y^{2} \\left(- x - y - z + 1\\right) + z^{3} + 3 z^{2} \\left(- x - y - z + 1\\right)$"
      ],
      "text/plain": [
       "6*x*y*z + 3*y**2*z + 3*y**2*(-x - y - z + 1) + z**3 + 3*z**2*(-x - y - z + 1)"
      ]
     },
     "execution_count": 22,
     "metadata": {},
     "output_type": "execute_result"
    }
   ],
   "source": [
    "simplify(pz_pf)"
   ]
  },
  {
   "cell_type": "markdown",
   "id": "b889d08d-8ebc-4f6e-8601-f78a9c24fcdd",
   "metadata": {},
   "source": [
    "Now, we want to determine how the error evolves under the Shor code. This is where our second step of theoretical insight comes in. <b> We substitute the expression of $p_{xbf}'$ into $p_{xpf}'$, $p_{ybf}'$ into $p_{ypf}'$, and $p_{zbf}'$ into $p_{zpf}'$. This is because the Shor code is exactly the concatenation of the bit flip code and the phase flip code; hence we can concatenate the errors in this way as well. </b> Making this subtitution, we have:"
   ]
  },
  {
   "cell_type": "code",
   "execution_count": 23,
   "id": "230ccc60-a44d-4a81-a535-f78875e13ca7",
   "metadata": {},
   "outputs": [],
   "source": [
    "a, b, c = symbols(\"a, b, c\") # Temporary variables"
   ]
  },
  {
   "cell_type": "code",
   "execution_count": 24,
   "id": "94e5b1d5-e6c4-488e-8a65-944ba8e0b889",
   "metadata": {},
   "outputs": [],
   "source": [
    "px_pf = px_pf.subs([(x, a), (y, b), (z, c)])\n",
    "py_pf = py_pf.subs([(x, a), (y, b), (z, c)])\n",
    "pz_pf = pz_pf.subs([(x, a), (y, b), (z, c)])"
   ]
  },
  {
   "cell_type": "code",
   "execution_count": 25,
   "id": "54aaf031-67f6-4d18-99ac-8404ebda950d",
   "metadata": {},
   "outputs": [],
   "source": [
    "px_tot = px_pf.subs([(a, px_bf), (b, py_bf), (c, pz_bf)])\n",
    "py_tot = py_pf.subs([(a, px_bf), (b, py_bf), (c, pz_bf)])\n",
    "pz_tot = pz_pf.subs([(a, px_bf), (b, py_bf), (c, pz_bf)])"
   ]
  },
  {
   "cell_type": "code",
   "execution_count": 28,
   "id": "148cf9dd-51dc-42cb-961d-ab779acfdcf4",
   "metadata": {},
   "outputs": [
    {
     "data": {
      "text/latex": [
       "$\\displaystyle - 6 \\left(x^{3} + 3 x^{2} \\left(- x - y - z + 1\\right) + 3 x y^{2} + 6 x y z + 3 y^{2} \\left(- x - y - z + 1\\right)\\right) \\left(- 6 x z \\left(x + y + z - 1\\right) + 3 y z^{2} + 3 y \\left(x + y + z - 1\\right)^{2} + z^{3} + 3 z \\left(x + y + z - 1\\right)^{2}\\right) \\left(x^{3} + 3 x^{2} y + 3 x^{2} z + 3 x^{2} \\left(- x - y - z + 1\\right) + 3 x y^{2} + 6 x y z - 6 x y \\left(x + y + z - 1\\right) - 6 x z \\left(x + y + z - 1\\right) + y^{3} + 3 y^{2} z + 3 y^{2} \\left(- x - y - z + 1\\right) + 3 y z^{2} + 3 y \\left(x + y + z - 1\\right)^{2} + z^{3} + 3 z \\left(x + y + z - 1\\right)^{2} - 1\\right) + 3 \\left(x^{3} + 3 x^{2} \\left(- x - y - z + 1\\right) + 3 x y^{2} + 6 x y z + 3 y^{2} \\left(- x - y - z + 1\\right)\\right) \\left(x^{3} + 3 x^{2} y + 3 x^{2} z + 3 x^{2} \\left(- x - y - z + 1\\right) + 3 x y^{2} + 6 x y z - 6 x y \\left(x + y + z - 1\\right) - 6 x z \\left(x + y + z - 1\\right) + y^{3} + 3 y^{2} z + 3 y^{2} \\left(- x - y - z + 1\\right) + 3 y z^{2} + 3 y \\left(x + y + z - 1\\right)^{2} + z^{3} + 3 z \\left(x + y + z - 1\\right)^{2} - 1\\right)^{2} + \\left(x^{3} - 3 x^{2} \\left(x + y + z - 1\\right) + 3 x y^{2} + 6 x y z - 3 y^{2} \\left(x + y + z - 1\\right)\\right)^{3} + 3 \\left(x^{3} - 3 x^{2} \\left(x + y + z - 1\\right) + 3 x y^{2} + 6 x y z - 3 y^{2} \\left(x + y + z - 1\\right)\\right)^{2} \\left(3 x^{2} y + 3 x^{2} z - 6 x y \\left(x + y + z - 1\\right) + y^{3} + 3 y^{2} z\\right) + 3 \\left(3 x^{2} y + 3 x^{2} z - 6 x y \\left(x + y + z - 1\\right) + y^{3} + 3 y^{2} z\\right) \\left(x^{3} + 3 x^{2} y + 3 x^{2} z + 3 x^{2} \\left(- x - y - z + 1\\right) + 3 x y^{2} + 6 x y z - 6 x y \\left(x + y + z - 1\\right) - 6 x z \\left(x + y + z - 1\\right) + y^{3} + 3 y^{2} z + 3 y^{2} \\left(- x - y - z + 1\\right) + 3 y z^{2} + 3 y \\left(x + y + z - 1\\right)^{2} + z^{3} + 3 z \\left(x + y + z - 1\\right)^{2} - 1\\right)^{2}$"
      ],
      "text/plain": [
       "-6*(x**3 + 3*x**2*(-x - y - z + 1) + 3*x*y**2 + 6*x*y*z + 3*y**2*(-x - y - z + 1))*(-6*x*z*(x + y + z - 1) + 3*y*z**2 + 3*y*(x + y + z - 1)**2 + z**3 + 3*z*(x + y + z - 1)**2)*(x**3 + 3*x**2*y + 3*x**2*z + 3*x**2*(-x - y - z + 1) + 3*x*y**2 + 6*x*y*z - 6*x*y*(x + y + z - 1) - 6*x*z*(x + y + z - 1) + y**3 + 3*y**2*z + 3*y**2*(-x - y - z + 1) + 3*y*z**2 + 3*y*(x + y + z - 1)**2 + z**3 + 3*z*(x + y + z - 1)**2 - 1) + 3*(x**3 + 3*x**2*(-x - y - z + 1) + 3*x*y**2 + 6*x*y*z + 3*y**2*(-x - y - z + 1))*(x**3 + 3*x**2*y + 3*x**2*z + 3*x**2*(-x - y - z + 1) + 3*x*y**2 + 6*x*y*z - 6*x*y*(x + y + z - 1) - 6*x*z*(x + y + z - 1) + y**3 + 3*y**2*z + 3*y**2*(-x - y - z + 1) + 3*y*z**2 + 3*y*(x + y + z - 1)**2 + z**3 + 3*z*(x + y + z - 1)**2 - 1)**2 + (x**3 - 3*x**2*(x + y + z - 1) + 3*x*y**2 + 6*x*y*z - 3*y**2*(x + y + z - 1))**3 + 3*(x**3 - 3*x**2*(x + y + z - 1) + 3*x*y**2 + 6*x*y*z - 3*y**2*(x + y + z - 1))**2*(3*x**2*y + 3*x**2*z - 6*x*y*(x + y + z - 1) + y**3 + 3*y**2*z) + 3*(3*x**2*y + 3*x**2*z - 6*x*y*(x + y + z - 1) + y**3 + 3*y**2*z)*(x**3 + 3*x**2*y + 3*x**2*z + 3*x**2*(-x - y - z + 1) + 3*x*y**2 + 6*x*y*z - 6*x*y*(x + y + z - 1) - 6*x*z*(x + y + z - 1) + y**3 + 3*y**2*z + 3*y**2*(-x - y - z + 1) + 3*y*z**2 + 3*y*(x + y + z - 1)**2 + z**3 + 3*z*(x + y + z - 1)**2 - 1)**2"
      ]
     },
     "execution_count": 28,
     "metadata": {},
     "output_type": "execute_result"
    }
   ],
   "source": [
    "simplify(px_tot)"
   ]
  },
  {
   "cell_type": "code",
   "execution_count": 26,
   "id": "71e411a9-3b89-40f1-99a2-460a4e076a12",
   "metadata": {},
   "outputs": [],
   "source": [
    "px_py = px_tot + py_tot\n",
    "py_pz = py_tot + pz_tot"
   ]
  },
  {
   "cell_type": "code",
   "execution_count": 27,
   "id": "89adc8d0-41f1-4d7c-a600-06b857036fcf",
   "metadata": {},
   "outputs": [
    {
     "data": {
      "text/latex": [
       "$\\displaystyle - 32 x^{9} - 288 x^{8} y + 144 x^{8} - 1152 x^{7} y^{2} + 1152 x^{7} y - 216 x^{7} - 2688 x^{6} y^{3} + 4032 x^{6} y^{2} - 1512 x^{6} y + 84 x^{6} - 4032 x^{5} y^{4} + 8064 x^{5} y^{3} - 4536 x^{5} y^{2} + 504 x^{5} y + 72 x^{5} - 4032 x^{4} y^{5} + 10080 x^{4} y^{4} - 7560 x^{4} y^{3} + 1260 x^{4} y^{2} + 360 x^{4} y - 54 x^{4} - 2688 x^{3} y^{6} + 8064 x^{3} y^{5} - 7560 x^{3} y^{4} + 1680 x^{3} y^{3} + 720 x^{3} y^{2} - 216 x^{3} y - 6 x^{3} - 1152 x^{2} y^{7} + 4032 x^{2} y^{6} - 4536 x^{2} y^{5} + 1260 x^{2} y^{4} + 720 x^{2} y^{3} - 324 x^{2} y^{2} - 18 x^{2} y + 9 x^{2} - 288 x y^{8} + 1152 x y^{7} - 1512 x y^{6} + 504 x y^{5} + 360 x y^{4} - 216 x y^{3} - 18 x y^{2} + 18 x y - 32 y^{9} + 144 y^{8} - 216 y^{7} + 84 y^{6} + 72 y^{5} - 54 y^{4} - 6 y^{3} + 9 y^{2}$"
      ],
      "text/plain": [
       "-32*x**9 - 288*x**8*y + 144*x**8 - 1152*x**7*y**2 + 1152*x**7*y - 216*x**7 - 2688*x**6*y**3 + 4032*x**6*y**2 - 1512*x**6*y + 84*x**6 - 4032*x**5*y**4 + 8064*x**5*y**3 - 4536*x**5*y**2 + 504*x**5*y + 72*x**5 - 4032*x**4*y**5 + 10080*x**4*y**4 - 7560*x**4*y**3 + 1260*x**4*y**2 + 360*x**4*y - 54*x**4 - 2688*x**3*y**6 + 8064*x**3*y**5 - 7560*x**3*y**4 + 1680*x**3*y**3 + 720*x**3*y**2 - 216*x**3*y - 6*x**3 - 1152*x**2*y**7 + 4032*x**2*y**6 - 4536*x**2*y**5 + 1260*x**2*y**4 + 720*x**2*y**3 - 324*x**2*y**2 - 18*x**2*y + 9*x**2 - 288*x*y**8 + 1152*x*y**7 - 1512*x*y**6 + 504*x*y**5 + 360*x*y**4 - 216*x*y**3 - 18*x*y**2 + 18*x*y - 32*y**9 + 144*y**8 - 216*y**7 + 84*y**6 + 72*y**5 - 54*y**4 - 6*y**3 + 9*y**2"
      ]
     },
     "execution_count": 27,
     "metadata": {},
     "output_type": "execute_result"
    }
   ],
   "source": [
    "simplify(px_py)"
   ]
  },
  {
   "cell_type": "code",
   "execution_count": 76,
   "id": "14d55356-609e-4bf1-a1d6-d1201695284f",
   "metadata": {},
   "outputs": [
    {
     "data": {
      "text/latex": [
       "$\\displaystyle - 128 y^{9} - 1152 y^{8} z + 576 y^{8} - 4608 y^{7} z^{2} + 4608 y^{7} z - 1152 y^{7} - 10752 y^{6} z^{3} + 16128 y^{6} z^{2} - 8064 y^{6} z + 1344 y^{6} - 16128 y^{5} z^{4} + 32256 y^{5} z^{3} - 24192 y^{5} z^{2} + 8064 y^{5} z - 1008 y^{5} - 16128 y^{4} z^{5} + 40320 y^{4} z^{4} - 40320 y^{4} z^{3} + 20160 y^{4} z^{2} - 5040 y^{4} z + 504 y^{4} - 10752 y^{3} z^{6} + 32256 y^{3} z^{5} - 40320 y^{3} z^{4} + 26880 y^{3} z^{3} - 10080 y^{3} z^{2} + 2016 y^{3} z - 162 y^{3} - 4608 y^{2} z^{7} + 16128 y^{2} z^{6} - 24192 y^{2} z^{5} + 20160 y^{2} z^{4} - 10080 y^{2} z^{3} + 3024 y^{2} z^{2} - 486 y^{2} z + 27 y^{2} - 1152 y z^{8} + 4608 y z^{7} - 8064 y z^{6} + 8064 y z^{5} - 5040 y z^{4} + 2016 y z^{3} - 486 y z^{2} + 54 y z - 128 z^{9} + 576 z^{8} - 1152 z^{7} + 1344 z^{6} - 1008 z^{5} + 504 z^{4} - 162 z^{3} + 27 z^{2}$"
      ],
      "text/plain": [
       "-128*y**9 - 1152*y**8*z + 576*y**8 - 4608*y**7*z**2 + 4608*y**7*z - 1152*y**7 - 10752*y**6*z**3 + 16128*y**6*z**2 - 8064*y**6*z + 1344*y**6 - 16128*y**5*z**4 + 32256*y**5*z**3 - 24192*y**5*z**2 + 8064*y**5*z - 1008*y**5 - 16128*y**4*z**5 + 40320*y**4*z**4 - 40320*y**4*z**3 + 20160*y**4*z**2 - 5040*y**4*z + 504*y**4 - 10752*y**3*z**6 + 32256*y**3*z**5 - 40320*y**3*z**4 + 26880*y**3*z**3 - 10080*y**3*z**2 + 2016*y**3*z - 162*y**3 - 4608*y**2*z**7 + 16128*y**2*z**6 - 24192*y**2*z**5 + 20160*y**2*z**4 - 10080*y**2*z**3 + 3024*y**2*z**2 - 486*y**2*z + 27*y**2 - 1152*y*z**8 + 4608*y*z**7 - 8064*y*z**6 + 8064*y*z**5 - 5040*y*z**4 + 2016*y*z**3 - 486*y*z**2 + 54*y*z - 128*z**9 + 576*z**8 - 1152*z**7 + 1344*z**6 - 1008*z**5 + 504*z**4 - 162*z**3 + 27*z**2"
      ]
     },
     "execution_count": 76,
     "metadata": {},
     "output_type": "execute_result"
    }
   ],
   "source": [
    "simplify(py_pz)"
   ]
  },
  {
   "cell_type": "code",
   "execution_count": 29,
   "id": "cbbeab01-80a6-40d0-90da-5fde7a6c94cf",
   "metadata": {},
   "outputs": [
    {
     "data": {
      "text/latex": [
       "$\\displaystyle - \\left(x + y\\right)^{2} \\left(2 x + 2 y - 3\\right) \\left(16 x^{6} + 96 x^{5} y - 48 x^{5} + 240 x^{4} y^{2} - 240 x^{4} y + 36 x^{4} + 320 x^{3} y^{3} - 480 x^{3} y^{2} + 144 x^{3} y + 12 x^{3} + 240 x^{2} y^{4} - 480 x^{2} y^{3} + 216 x^{2} y^{2} + 36 x^{2} y - 18 x^{2} + 96 x y^{5} - 240 x y^{4} + 144 x y^{3} + 36 x y^{2} - 36 x y + 16 y^{6} - 48 y^{5} + 36 y^{4} + 12 y^{3} - 18 y^{2} + 3\\right)$"
      ],
      "text/plain": [
       "-(x + y)**2*(2*x + 2*y - 3)*(16*x**6 + 96*x**5*y - 48*x**5 + 240*x**4*y**2 - 240*x**4*y + 36*x**4 + 320*x**3*y**3 - 480*x**3*y**2 + 144*x**3*y + 12*x**3 + 240*x**2*y**4 - 480*x**2*y**3 + 216*x**2*y**2 + 36*x**2*y - 18*x**2 + 96*x*y**5 - 240*x*y**4 + 144*x*y**3 + 36*x*y**2 - 36*x*y + 16*y**6 - 48*y**5 + 36*y**4 + 12*y**3 - 18*y**2 + 3)"
      ]
     },
     "execution_count": 29,
     "metadata": {},
     "output_type": "execute_result"
    }
   ],
   "source": [
    "factor(px_py)"
   ]
  },
  {
   "cell_type": "code",
   "execution_count": 78,
   "id": "c8f5aaa5-30cc-42e4-868b-ab44c39ecac2",
   "metadata": {},
   "outputs": [
    {
     "data": {
      "text/latex": [
       "$\\displaystyle - \\left(y + z\\right)^{2} \\left(4 y^{2} + 8 y z - 6 y + 4 z^{2} - 6 z + 3\\right)^{2} \\left(8 y^{3} + 24 y^{2} z - 12 y^{2} + 24 y z^{2} - 24 y z + 6 y + 8 z^{3} - 12 z^{2} + 6 z - 3\\right)$"
      ],
      "text/plain": [
       "-(y + z)**2*(4*y**2 + 8*y*z - 6*y + 4*z**2 - 6*z + 3)**2*(8*y**3 + 24*y**2*z - 12*y**2 + 24*y*z**2 - 24*y*z + 6*y + 8*z**3 - 12*z**2 + 6*z - 3)"
      ]
     },
     "execution_count": 78,
     "metadata": {},
     "output_type": "execute_result"
    }
   ],
   "source": [
    "factor(py_pz)"
   ]
  },
  {
   "cell_type": "markdown",
   "id": "74eb82a7-79af-42b2-907f-dde3661ea434",
   "metadata": {},
   "source": [
    "Making the substitution of $x + y \\mapsto p$, $y + z \\mapsto q$, we get:"
   ]
  },
  {
   "cell_type": "code",
   "execution_count": 80,
   "id": "387a9edd-0a10-4b25-9a56-2925848ea28a",
   "metadata": {},
   "outputs": [],
   "source": [
    "p, q = symbols(\"p, q\")"
   ]
  },
  {
   "cell_type": "code",
   "execution_count": 84,
   "id": "5942319d-f2e3-4817-a36a-fac7e8028e3f",
   "metadata": {},
   "outputs": [
    {
     "data": {
      "text/latex": [
       "$\\displaystyle - 32 p^{9} + 144 p^{8} - 216 p^{7} + 84 p^{6} + 72 p^{5} - 54 p^{4} - 6 p^{3} + 9 p^{2}$"
      ],
      "text/plain": [
       "-32*p**9 + 144*p**8 - 216*p**7 + 84*p**6 + 72*p**5 - 54*p**4 - 6*p**3 + 9*p**2"
      ]
     },
     "execution_count": 84,
     "metadata": {},
     "output_type": "execute_result"
    }
   ],
   "source": [
    "newp = -p**2 * (2*p - 3) * ( 16 * p**6 -48 * p**5 + 36 * p**4 + 12 * p**3 - 18 * p**2 + 3)\n",
    "expand(newp)"
   ]
  },
  {
   "cell_type": "code",
   "execution_count": 85,
   "id": "a743ceae-39ed-40e4-a10e-447a8857be4f",
   "metadata": {},
   "outputs": [
    {
     "data": {
      "text/latex": [
       "$\\displaystyle - 128 q^{9} + 576 q^{8} - 1152 q^{7} + 1344 q^{6} - 1008 q^{5} + 504 q^{4} - 162 q^{3} + 27 q^{2}$"
      ],
      "text/plain": [
       "-128*q**9 + 576*q**8 - 1152*q**7 + 1344*q**6 - 1008*q**5 + 504*q**4 - 162*q**3 + 27*q**2"
      ]
     },
     "execution_count": 85,
     "metadata": {},
     "output_type": "execute_result"
    }
   ],
   "source": [
    "newq = -q**2 * (4*q**2 - 6 * q + 3)**2 * (8 * q**3 - 12*q**2 + 6*q - 3)\n",
    "expand(newq)"
   ]
  },
  {
   "cell_type": "markdown",
   "id": "f4ac4956-86f2-4193-ba82-78ec2e5b3f30",
   "metadata": {},
   "source": [
    "And these are identical to the expressions we obtained with the previous (inefficient) method. This method introduced here has a much more efficient runtime (we only check 64 cases; definitely feasible with a pocket calculator!) but yields the same result. If anything, this whole substitution business could be worked out by hand in desperate times, so if we were trapped in a cave with nothing but a programming calculator and pens/paper, this would definitely be solvable."
   ]
  },
  {
   "cell_type": "code",
   "execution_count": null,
   "id": "bea356c4-6546-4cae-ae87-e4cf967aedee",
   "metadata": {},
   "outputs": [],
   "source": []
  }
 ],
 "metadata": {
  "kernelspec": {
   "display_name": "Python 3",
   "language": "python",
   "name": "python3"
  },
  "language_info": {
   "codemirror_mode": {
    "name": "ipython",
    "version": 3
   },
   "file_extension": ".py",
   "mimetype": "text/x-python",
   "name": "python",
   "nbconvert_exporter": "python",
   "pygments_lexer": "ipython3",
   "version": "3.8.10"
  }
 },
 "nbformat": 4,
 "nbformat_minor": 5
}
